{
 "cells": [
  {
   "cell_type": "code",
   "execution_count": 23,
   "metadata": {},
   "outputs": [],
   "source": [
    "import pandas as pd\n",
    "from servier.utils import describe_df\n",
    "import numpy as np\n",
    "PATH = '/Users/jeanbizot/Documents/projets/PERSO/servier/servier/data/'"
   ]
  },
  {
   "cell_type": "code",
   "execution_count": 24,
   "metadata": {},
   "outputs": [],
   "source": [
    "file_path = PATH + 'dataset_single.csv'\n",
    "file_path_multi = PATH + 'dataset_multi.csv'"
   ]
  },
  {
   "cell_type": "code",
   "execution_count": 25,
   "metadata": {},
   "outputs": [],
   "source": [
    "df = pd.read_csv(file_path)\n",
    "df2 = pd.read_csv(file_path_multi)"
   ]
  },
  {
   "cell_type": "code",
   "execution_count": 26,
   "metadata": {},
   "outputs": [
    {
     "data": {
      "text/plain": [
       "array(['Cc1ccc2cc3cc(C(=O)NCc4ccc5c(c4)OCO5)oc3nc2c1',\n",
       "       'CCSc1sc(CC)cc1C(=O)O',\n",
       "       'Cc1ccc(Cn2c(SCCN3CCCCC3)nc3c2c(=O)n(C)c(=O)n3C)cc1',\n",
       "       'COCCn1c(C)cc(C(=O)CSc2ncn[nH]2)c1C',\n",
       "       'CC1C(=O)C(C)C(c2cccs2)NC1c1cccs1',\n",
       "       'O=C(Cn1c(C(=O)N2CCc3ccccc3C2)cc2sccc21)c1ccccc1',\n",
       "       'CN(C(=O)c1ccncc1)c1nnc(-c2ccccn2)s1',\n",
       "       'C=CCOC(=O)C1=C(C)NC(SC)=C(C#N)C1c1cccs1',\n",
       "       'CCOC(=O)c1c(-c2cccs2)csc1NC(=O)CSc1ncn[nH]1',\n",
       "       'Cc1c(Cl)ccc(S(=O)(=O)N2CCN=C2c2ccccc2)c1Cl'], dtype=object)"
      ]
     },
     "execution_count": 26,
     "metadata": {},
     "output_type": "execute_result"
    }
   ],
   "source": [
    "df.sample(10).smiles.values"
   ]
  },
  {
   "cell_type": "markdown",
   "metadata": {},
   "source": [
    "# Rdkit exploration"
   ]
  },
  {
   "cell_type": "code",
   "execution_count": 27,
   "metadata": {},
   "outputs": [],
   "source": [
    "from rdkit.Chem import rdMolDescriptors, MolFromSmiles, rdmolfiles, rdmolops, DataStructs"
   ]
  },
  {
   "cell_type": "code",
   "execution_count": 28,
   "metadata": {},
   "outputs": [],
   "source": [
    "smile = \"Cc1cccc(N2CCN(C(=O)C34CC5CC(CC(C5)C3)C4)CC2)c1C\""
   ]
  },
  {
   "cell_type": "code",
   "execution_count": 29,
   "metadata": {},
   "outputs": [],
   "source": [
    "mol = MolFromSmiles(smile)\n",
    "new_order = rdmolfiles.CanonicalRankAtoms(mol)"
   ]
  },
  {
   "cell_type": "code",
   "execution_count": 30,
   "metadata": {},
   "outputs": [
    {
     "data": {
      "image/png": "[encoded data removed]",
      "text/plain": [
       "<rdkit.Chem.rdchem.Mol at 0x14d5c6580>"
      ]
     },
     "execution_count": 30,
     "metadata": {},
     "output_type": "execute_result"
    }
   ],
   "source": [
    "mol"
   ]
  },
  {
   "cell_type": "code",
   "execution_count": 31,
   "metadata": {},
   "outputs": [
    {
     "data": {
      "text/plain": [
       "[0,\n",
       " 17,\n",
       " 4,\n",
       " 3,\n",
       " 5,\n",
       " 18,\n",
       " 24,\n",
       " 11,\n",
       " 9,\n",
       " 23,\n",
       " 16,\n",
       " 2,\n",
       " 25,\n",
       " 14,\n",
       " 21,\n",
       " 6,\n",
       " 20,\n",
       " 7,\n",
       " 22,\n",
       " 8,\n",
       " 15,\n",
       " 13,\n",
       " 10,\n",
       " 12,\n",
       " 19,\n",
       " 1]"
      ]
     },
     "execution_count": 31,
     "metadata": {},
     "output_type": "execute_result"
    }
   ],
   "source": [
    "list(new_order)"
   ]
  },
  {
   "cell_type": "markdown",
   "metadata": {},
   "source": [
    "# Preprocessing"
   ]
  },
  {
   "cell_type": "code",
   "execution_count": 32,
   "metadata": {},
   "outputs": [],
   "source": [
    "def fingerprint_features(smile_string, radius=2, size=2048):\n",
    "    \"\"\"\n",
    "    :param smile_string:\n",
    "    :param radius: no default value, usually set 2 for similarity search and 3 for machine learning\n",
    "    :param size: (nBits) number of bits, default is 2048. 1024 is also widely used.\n",
    "    :return:\n",
    "    \"\"\"\n",
    "    mol = MolFromSmiles(smile_string)\n",
    "    new_order = rdmolfiles.CanonicalRankAtoms(mol)\n",
    "    mol = rdmolops.RenumberAtoms(mol, new_order)\n",
    "    return list(rdMolDescriptors.GetMorganFingerprintAsBitVect(mol, radius=radius,\n",
    "                                                          nBits=size,\n",
    "                                                          useChirality=True,\n",
    "                                                          useBondTypes=True,\n",
    "                                                          useFeatures=False))\n",
    "\n",
    "def df_to_features(df, col='smiles', radius=2, size=2048, *args, **kwargs):\n",
    "    l_cols = [f'Bit_{i}' for i in range(size)]\n",
    "    l_smiles = df[col].values\n",
    "    vect_list = []\n",
    "    for smile in l_smiles:\n",
    "        fingerprint_vect = fingerprint_features(smile, radius=radius, size=size)\n",
    "        vect_list.append(fingerprint_vect)\n",
    "    df_morgan = pd.DataFrame(vect_list, columns=l_cols)\n",
    "    df_final = pd.concat([df, df_morgan.astype('int8')], axis=1)\n",
    "    return df_final"
   ]
  },
  {
   "cell_type": "code",
   "execution_count": 33,
   "metadata": {},
   "outputs": [],
   "source": [
    "mol = \"Cc1cccc(N2CCN(C(=O)C34CC5CC(CC(C5)C3)C4)CC2)c1C\""
   ]
  },
  {
   "cell_type": "code",
   "execution_count": 63,
   "metadata": {},
   "outputs": [
    {
     "name": "stdout",
     "output_type": "stream",
     "text": [
      "CPU times: user 4.76 s, sys: 70.1 ms, total: 4.83 s\n",
      "Wall time: 4.84 s\n"
     ]
    }
   ],
   "source": [
    "%%time\n",
    "SIZE = 1024\n",
    "df_final = df_to_features(df, radius=3, size=SIZE)"
   ]
  },
  {
   "cell_type": "code",
   "execution_count": 64,
   "metadata": {},
   "outputs": [
    {
     "data": {
      "text/html": [
       "<div>\n",
       "<style scoped>\n",
       "    .dataframe tbody tr th:only-of-type {\n",
       "        vertical-align: middle;\n",
       "    }\n",
       "\n",
       "    .dataframe tbody tr th {\n",
       "        vertical-align: top;\n",
       "    }\n",
       "\n",
       "    .dataframe thead th {\n",
       "        text-align: right;\n",
       "    }\n",
       "</style>\n",
       "<table border=\"1\" class=\"dataframe\">\n",
       "  <thead>\n",
       "    <tr style=\"text-align: right;\">\n",
       "      <th></th>\n",
       "      <th>P1</th>\n",
       "      <th>mol_id</th>\n",
       "      <th>smiles</th>\n",
       "      <th>Bit_0</th>\n",
       "      <th>Bit_1</th>\n",
       "      <th>Bit_2</th>\n",
       "      <th>Bit_3</th>\n",
       "      <th>Bit_4</th>\n",
       "      <th>Bit_5</th>\n",
       "      <th>Bit_6</th>\n",
       "      <th>...</th>\n",
       "      <th>Bit_1014</th>\n",
       "      <th>Bit_1015</th>\n",
       "      <th>Bit_1016</th>\n",
       "      <th>Bit_1017</th>\n",
       "      <th>Bit_1018</th>\n",
       "      <th>Bit_1019</th>\n",
       "      <th>Bit_1020</th>\n",
       "      <th>Bit_1021</th>\n",
       "      <th>Bit_1022</th>\n",
       "      <th>Bit_1023</th>\n",
       "    </tr>\n",
       "  </thead>\n",
       "  <tbody>\n",
       "    <tr>\n",
       "      <th>0</th>\n",
       "      <td>1</td>\n",
       "      <td>CID2999678</td>\n",
       "      <td>Cc1cccc(N2CCN(C(=O)C34CC5CC(CC(C5)C3)C4)CC2)c1C</td>\n",
       "      <td>0</td>\n",
       "      <td>0</td>\n",
       "      <td>0</td>\n",
       "      <td>0</td>\n",
       "      <td>0</td>\n",
       "      <td>0</td>\n",
       "      <td>0</td>\n",
       "      <td>...</td>\n",
       "      <td>0</td>\n",
       "      <td>0</td>\n",
       "      <td>0</td>\n",
       "      <td>0</td>\n",
       "      <td>0</td>\n",
       "      <td>1</td>\n",
       "      <td>0</td>\n",
       "      <td>0</td>\n",
       "      <td>0</td>\n",
       "      <td>0</td>\n",
       "    </tr>\n",
       "    <tr>\n",
       "      <th>1</th>\n",
       "      <td>0</td>\n",
       "      <td>CID2999679</td>\n",
       "      <td>Cn1ccnc1SCC(=O)Nc1ccc(Oc2ccccc2)cc1</td>\n",
       "      <td>0</td>\n",
       "      <td>0</td>\n",
       "      <td>0</td>\n",
       "      <td>0</td>\n",
       "      <td>0</td>\n",
       "      <td>0</td>\n",
       "      <td>0</td>\n",
       "      <td>...</td>\n",
       "      <td>0</td>\n",
       "      <td>0</td>\n",
       "      <td>0</td>\n",
       "      <td>0</td>\n",
       "      <td>0</td>\n",
       "      <td>0</td>\n",
       "      <td>0</td>\n",
       "      <td>0</td>\n",
       "      <td>0</td>\n",
       "      <td>0</td>\n",
       "    </tr>\n",
       "    <tr>\n",
       "      <th>2</th>\n",
       "      <td>1</td>\n",
       "      <td>CID2999672</td>\n",
       "      <td>COc1cc2c(cc1NC(=O)CN1C(=O)NC3(CCc4ccccc43)C1=O...</td>\n",
       "      <td>0</td>\n",
       "      <td>0</td>\n",
       "      <td>0</td>\n",
       "      <td>0</td>\n",
       "      <td>0</td>\n",
       "      <td>0</td>\n",
       "      <td>0</td>\n",
       "      <td>...</td>\n",
       "      <td>0</td>\n",
       "      <td>0</td>\n",
       "      <td>0</td>\n",
       "      <td>0</td>\n",
       "      <td>0</td>\n",
       "      <td>1</td>\n",
       "      <td>0</td>\n",
       "      <td>0</td>\n",
       "      <td>0</td>\n",
       "      <td>0</td>\n",
       "    </tr>\n",
       "    <tr>\n",
       "      <th>3</th>\n",
       "      <td>0</td>\n",
       "      <td>CID5390002</td>\n",
       "      <td>O=C1/C(=C/NC2CCS(=O)(=O)C2)c2ccccc2C(=O)N1c1cc...</td>\n",
       "      <td>0</td>\n",
       "      <td>0</td>\n",
       "      <td>0</td>\n",
       "      <td>0</td>\n",
       "      <td>0</td>\n",
       "      <td>0</td>\n",
       "      <td>0</td>\n",
       "      <td>...</td>\n",
       "      <td>1</td>\n",
       "      <td>0</td>\n",
       "      <td>0</td>\n",
       "      <td>0</td>\n",
       "      <td>0</td>\n",
       "      <td>1</td>\n",
       "      <td>0</td>\n",
       "      <td>0</td>\n",
       "      <td>0</td>\n",
       "      <td>0</td>\n",
       "    </tr>\n",
       "    <tr>\n",
       "      <th>4</th>\n",
       "      <td>1</td>\n",
       "      <td>CID2999670</td>\n",
       "      <td>NC(=O)NC(Cc1ccccc1)C(=O)O</td>\n",
       "      <td>0</td>\n",
       "      <td>1</td>\n",
       "      <td>0</td>\n",
       "      <td>0</td>\n",
       "      <td>0</td>\n",
       "      <td>0</td>\n",
       "      <td>0</td>\n",
       "      <td>...</td>\n",
       "      <td>0</td>\n",
       "      <td>0</td>\n",
       "      <td>0</td>\n",
       "      <td>0</td>\n",
       "      <td>0</td>\n",
       "      <td>0</td>\n",
       "      <td>0</td>\n",
       "      <td>0</td>\n",
       "      <td>0</td>\n",
       "      <td>0</td>\n",
       "    </tr>\n",
       "  </tbody>\n",
       "</table>\n",
       "<p>5 rows × 1027 columns</p>\n",
       "</div>"
      ],
      "text/plain": [
       "   P1      mol_id                                             smiles  Bit_0  \\\n",
       "0   1  CID2999678    Cc1cccc(N2CCN(C(=O)C34CC5CC(CC(C5)C3)C4)CC2)c1C      0   \n",
       "1   0  CID2999679                Cn1ccnc1SCC(=O)Nc1ccc(Oc2ccccc2)cc1      0   \n",
       "2   1  CID2999672  COc1cc2c(cc1NC(=O)CN1C(=O)NC3(CCc4ccccc43)C1=O...      0   \n",
       "3   0  CID5390002  O=C1/C(=C/NC2CCS(=O)(=O)C2)c2ccccc2C(=O)N1c1cc...      0   \n",
       "4   1  CID2999670                          NC(=O)NC(Cc1ccccc1)C(=O)O      0   \n",
       "\n",
       "   Bit_1  Bit_2  Bit_3  Bit_4  Bit_5  Bit_6  ...  Bit_1014  Bit_1015  \\\n",
       "0      0      0      0      0      0      0  ...         0         0   \n",
       "1      0      0      0      0      0      0  ...         0         0   \n",
       "2      0      0      0      0      0      0  ...         0         0   \n",
       "3      0      0      0      0      0      0  ...         1         0   \n",
       "4      1      0      0      0      0      0  ...         0         0   \n",
       "\n",
       "   Bit_1016  Bit_1017  Bit_1018  Bit_1019  Bit_1020  Bit_1021  Bit_1022  \\\n",
       "0         0         0         0         1         0         0         0   \n",
       "1         0         0         0         0         0         0         0   \n",
       "2         0         0         0         1         0         0         0   \n",
       "3         0         0         0         1         0         0         0   \n",
       "4         0         0         0         0         0         0         0   \n",
       "\n",
       "   Bit_1023  \n",
       "0         0  \n",
       "1         0  \n",
       "2         0  \n",
       "3         0  \n",
       "4         0  \n",
       "\n",
       "[5 rows x 1027 columns]"
      ]
     },
     "execution_count": 64,
     "metadata": {},
     "output_type": "execute_result"
    }
   ],
   "source": [
    "df_final.head()"
   ]
  },
  {
   "cell_type": "markdown",
   "metadata": {},
   "source": [
    "# Training"
   ]
  },
  {
   "cell_type": "code",
   "execution_count": 41,
   "metadata": {},
   "outputs": [],
   "source": [
    "#import keras as k\n",
    "from keras.models import Sequential\n",
    "from keras.layers import Activation, BatchNormalization, Dropout\n",
    "from keras.layers.core import Dense\n",
    "from keras.optimizers import Adam, SGD\n",
    "from keras.metrics import categorical_crossentropy\n",
    "from sklearn.model_selection import train_test_split\n",
    "\n",
    "def get_class_weights(y):\n",
    "    (unique, counts) = np.unique(y, return_counts=True)\n",
    "    d = {}\n",
    "    for k,v in zip(unique, counts):\n",
    "        d[k] = round(v/len(y), 2)\n",
    "    return d"
   ]
  },
  {
   "cell_type": "code",
   "execution_count": 42,
   "metadata": {},
   "outputs": [],
   "source": [
    "X = df_final.filter(regex='Bit').values\n",
    "y = df_final.P1.values\n",
    "w = get_class_weights(y)"
   ]
  },
  {
   "cell_type": "code",
   "execution_count": 43,
   "metadata": {},
   "outputs": [],
   "source": [
    "X_train, X_val, y_train, y_val = train_test_split(X, y, stratify=y, test_size=0.15)"
   ]
  },
  {
   "cell_type": "code",
   "execution_count": 55,
   "metadata": {},
   "outputs": [],
   "source": [
    "\"\"\"NEURAL NETWORK\"\"\"\n",
    "#The neural network model\n",
    "def get_model(size, verbose=False):\n",
    "    model = Sequential([\n",
    "        Dense(size, input_shape=(size,), activation=\"relu\"),\n",
    "        Dropout(0.2),\n",
    "        Dense(512, activation=\"sigmoid\"),\n",
    "        Dropout(0.2),\n",
    "        Dense(128, activation=\"sigmoid\"),\n",
    "        Dropout(0.2),\n",
    "        Dense(16, activation=\"sigmoid\"),\n",
    "        BatchNormalization(axis=1),\n",
    "        Dense(1, activation='sigmoid')\n",
    "    ])\n",
    "    model.compile(optimizer=Adam(lr=0.0001), loss=\"binary_crossentropy\", metrics=[\"accuracy\"])\n",
    "    return model"
   ]
  },
  {
   "cell_type": "code",
   "execution_count": 56,
   "metadata": {},
   "outputs": [],
   "source": [
    "#Compiling the model\n",
    "from keras.wrappers.scikit_learn import KerasClassifier\n",
    "model = KerasClassifier(get_model, size=SIZE, batch_size=10, epochs=10, shuffle=True, class_weight=w,\n",
    "                                    verbose=1, validation_data=(X_val, y_val))"
   ]
  },
  {
   "cell_type": "code",
   "execution_count": 57,
   "metadata": {
    "scrolled": true
   },
   "outputs": [
    {
     "name": "stdout",
     "output_type": "stream",
     "text": [
      "Epoch 1/10\n",
      "425/425 [==============================] - 2s 5ms/step - loss: 0.5136 - accuracy: 0.5382 - val_loss: 0.6260 - val_accuracy: 0.8213\n",
      "Epoch 2/10\n",
      "425/425 [==============================] - 2s 4ms/step - loss: 0.4020 - accuracy: 0.6776 - val_loss: 0.5572 - val_accuracy: 0.8267\n",
      "Epoch 3/10\n",
      "425/425 [==============================] - 2s 4ms/step - loss: 0.3358 - accuracy: 0.7849 - val_loss: 0.4973 - val_accuracy: 0.8213\n",
      "Epoch 4/10\n",
      "425/425 [==============================] - 2s 4ms/step - loss: 0.2811 - accuracy: 0.8200 - val_loss: 0.4691 - val_accuracy: 0.8253\n",
      "Epoch 5/10\n",
      "425/425 [==============================] - 2s 4ms/step - loss: 0.2331 - accuracy: 0.8261 - val_loss: 0.4559 - val_accuracy: 0.8267\n",
      "Epoch 6/10\n",
      "425/425 [==============================] - 2s 6ms/step - loss: 0.1943 - accuracy: 0.8383 - val_loss: 0.4411 - val_accuracy: 0.8253\n",
      "Epoch 7/10\n",
      "425/425 [==============================] - 2s 5ms/step - loss: 0.1606 - accuracy: 0.8466 - val_loss: 0.4456 - val_accuracy: 0.8173\n",
      "Epoch 8/10\n",
      "425/425 [==============================] - 2s 5ms/step - loss: 0.1271 - accuracy: 0.8823 - val_loss: 0.4805 - val_accuracy: 0.8173\n",
      "Epoch 9/10\n",
      "425/425 [==============================] - 2s 5ms/step - loss: 0.0968 - accuracy: 0.9139 - val_loss: 0.5229 - val_accuracy: 0.8080\n",
      "Epoch 10/10\n",
      "425/425 [==============================] - 2s 5ms/step - loss: 0.0708 - accuracy: 0.9445 - val_loss: 0.5845 - val_accuracy: 0.8120\n",
      "CPU times: user 46.9 s, sys: 2.87 s, total: 49.8 s\n",
      "Wall time: 21.3 s\n"
     ]
    },
    {
     "data": {
      "text/plain": [
       "<tensorflow.python.keras.callbacks.History at 0x151b01128>"
      ]
     },
     "execution_count": 57,
     "metadata": {},
     "output_type": "execute_result"
    }
   ],
   "source": [
    "%%time\n",
    "#Training the model\n",
    "model.fit(X_train, y_train)"
   ]
  },
  {
   "cell_type": "markdown",
   "metadata": {},
   "source": [
    "# Prediction"
   ]
  },
  {
   "cell_type": "code",
   "execution_count": 58,
   "metadata": {},
   "outputs": [
    {
     "name": "stdout",
     "output_type": "stream",
     "text": [
      "750/750 [==============================] - 1s 798us/step\n"
     ]
    }
   ],
   "source": [
    "#Predictions with test dataset\n",
    "y_pred = model.predict(X_val, batch_size=1, verbose=1)"
   ]
  },
  {
   "cell_type": "markdown",
   "metadata": {},
   "source": [
    "# Evaluation"
   ]
  },
  {
   "cell_type": "code",
   "execution_count": 60,
   "metadata": {},
   "outputs": [],
   "source": [
    "import copy\n",
    "import matplotlib.pyplot as plt\n",
    "from servier.utils import perf_eval_classif\n",
    "\n",
    "def plot_confusion_wiki(confmat):\n",
    "    fig, ax = plt.subplots(figsize=(5, 5))\n",
    "    confmat_wiki = copy.copy(confmat.T)\n",
    "    confmat_wiki[0][0] = confmat[1][1]\n",
    "    confmat_wiki[1][1] = confmat[0][0]\n",
    "    ax.matshow(confmat_wiki, cmap=plt.cm.Blues, alpha=0.3)\n",
    "    for i in range(confmat_wiki.shape[0]):\n",
    "        for j in range(confmat_wiki.shape[1]):\n",
    "            ax.text(x=j, y=i, s=confmat_wiki[i, j], va='center', ha='center')\n",
    "    ax.set_xticklabels([0, 1])\n",
    "    ax.set_yticklabels([0, 1])\n",
    "    plt.xlabel('true label')\n",
    "    plt.ylabel('predicted label')\n",
    "    plt.tight_layout()"
   ]
  },
  {
   "cell_type": "code",
   "execution_count": 61,
   "metadata": {},
   "outputs": [],
   "source": [
    "\n",
    "perf_eval = perf_eval_classif(y_val, y_pred, verbose=False)"
   ]
  },
  {
   "cell_type": "code",
   "execution_count": 62,
   "metadata": {},
   "outputs": [
    {
     "name": "stderr",
     "output_type": "stream",
     "text": [
      "/Users/jeanbizot/miniconda3/envs/servier/lib/python3.6/site-packages/ipykernel_launcher.py:13: UserWarning: FixedFormatter should only be used together with FixedLocator\n",
      "  del sys.path[0]\n",
      "/Users/jeanbizot/miniconda3/envs/servier/lib/python3.6/site-packages/ipykernel_launcher.py:14: UserWarning: FixedFormatter should only be used together with FixedLocator\n",
      "  \n"
     ]
    },
    {
     "data": {
      "image/png": "[encoded data removed]",
      "text/plain": [
       "<Figure size 360x360 with 1 Axes>"
      ]
     },
     "metadata": {
      "needs_background": "light"
     },
     "output_type": "display_data"
    }
   ],
   "source": [
    "plot_confusion_wiki(perf_eval['confusion_matrix'])"
   ]
  },
  {
   "cell_type": "code",
   "execution_count": 171,
   "metadata": {},
   "outputs": [
    {
     "data": {
      "text/plain": [
       "{'f1': 0.8050632911392406,\n",
       " 'ROC': 0.5438917425857724,\n",
       " 'precision': 0.8383128295254832,\n",
       " 'recall': 0.7743506493506493,\n",
       " 'confusion_matrix': array([[ 42,  92],\n",
       "        [139, 477]])}"
      ]
     },
     "execution_count": 171,
     "metadata": {},
     "output_type": "execute_result"
    }
   ],
   "source": [
    "perf_eval"
   ]
  },
  {
   "cell_type": "markdown",
   "metadata": {},
   "source": [
    "# Test model loading"
   ]
  },
  {
   "cell_type": "code",
   "execution_count": 60,
   "metadata": {},
   "outputs": [],
   "source": [
    "from servier.data import get_X_y, get_data, LOCAL_PATH\n",
    "\n",
    "import joblib\n",
    "from keras.models import load_model\n",
    "path = LOCAL_PATH + 'final_models/'\n",
    "def model_load(path=path, dl=False):\n",
    "    if dl:\n",
    "        # Load the pipeline first:\n",
    "        pipeline = joblib.load(path + 'keras_pipeline.joblib')\n",
    "        # Then, load the Keras model:\n",
    "        pipeline.named_steps['clf'].model = load_model(path + 'keras_model.h5')\n",
    "    else:\n",
    "        pipeline = joblib.load(path + 'sklearn_pipeline.joblib')\n",
    "    return pipeline"
   ]
  },
  {
   "cell_type": "code",
   "execution_count": 56,
   "metadata": {},
   "outputs": [],
   "source": [
    "pipeline = model_load(dl=True)"
   ]
  },
  {
   "cell_type": "code",
   "execution_count": 57,
   "metadata": {},
   "outputs": [
    {
     "data": {
      "text/plain": [
       "{'preprocessing': Pipeline(steps=[('feat_encoder',\n",
       "                  Pipeline(steps=[('morganfingerprintencoder',\n",
       "                                   MorganFingerprintEncoder(size=1024))]))]),\n",
       " 'clf': <tensorflow.python.keras.wrappers.scikit_learn.KerasClassifier at 0x14b478eb8>}"
      ]
     },
     "execution_count": 57,
     "metadata": {},
     "output_type": "execute_result"
    }
   ],
   "source": [
    "pipeline.named_steps"
   ]
  },
  {
   "cell_type": "code",
   "execution_count": 65,
   "metadata": {},
   "outputs": [],
   "source": [
    "df = get_data()\n",
    "X, y = get_X_y(df.sample(10))"
   ]
  },
  {
   "cell_type": "code",
   "execution_count": 75,
   "metadata": {},
   "outputs": [
    {
     "name": "stdout",
     "output_type": "stream",
     "text": [
      "1/1 [==============================] - 0s 824us/step\n"
     ]
    }
   ],
   "source": [
    "y_pred = pipeline.predict(X)"
   ]
  },
  {
   "cell_type": "code",
   "execution_count": 76,
   "metadata": {},
   "outputs": [
    {
     "data": {
      "text/html": [
       "<div>\n",
       "<style scoped>\n",
       "    .dataframe tbody tr th:only-of-type {\n",
       "        vertical-align: middle;\n",
       "    }\n",
       "\n",
       "    .dataframe tbody tr th {\n",
       "        vertical-align: top;\n",
       "    }\n",
       "\n",
       "    .dataframe thead th {\n",
       "        text-align: right;\n",
       "    }\n",
       "</style>\n",
       "<table border=\"1\" class=\"dataframe\">\n",
       "  <thead>\n",
       "    <tr style=\"text-align: right;\">\n",
       "      <th></th>\n",
       "      <th>P1</th>\n",
       "      <th>mol_id</th>\n",
       "      <th>smiles</th>\n",
       "    </tr>\n",
       "  </thead>\n",
       "  <tbody>\n",
       "    <tr>\n",
       "      <th>0</th>\n",
       "      <td>1</td>\n",
       "      <td>CID2999678</td>\n",
       "      <td>Cc1cccc(N2CCN(C(=O)C34CC5CC(CC(C5)C3)C4)CC2)c1C</td>\n",
       "    </tr>\n",
       "    <tr>\n",
       "      <th>1</th>\n",
       "      <td>0</td>\n",
       "      <td>CID2999679</td>\n",
       "      <td>Cn1ccnc1SCC(=O)Nc1ccc(Oc2ccccc2)cc1</td>\n",
       "    </tr>\n",
       "    <tr>\n",
       "      <th>2</th>\n",
       "      <td>1</td>\n",
       "      <td>CID2999672</td>\n",
       "      <td>COc1cc2c(cc1NC(=O)CN1C(=O)NC3(CCc4ccccc43)C1=O...</td>\n",
       "    </tr>\n",
       "    <tr>\n",
       "      <th>3</th>\n",
       "      <td>0</td>\n",
       "      <td>CID5390002</td>\n",
       "      <td>O=C1/C(=C/NC2CCS(=O)(=O)C2)c2ccccc2C(=O)N1c1cc...</td>\n",
       "    </tr>\n",
       "    <tr>\n",
       "      <th>4</th>\n",
       "      <td>1</td>\n",
       "      <td>CID2999670</td>\n",
       "      <td>NC(=O)NC(Cc1ccccc1)C(=O)O</td>\n",
       "    </tr>\n",
       "  </tbody>\n",
       "</table>\n",
       "</div>"
      ],
      "text/plain": [
       "   P1      mol_id                                             smiles\n",
       "0   1  CID2999678    Cc1cccc(N2CCN(C(=O)C34CC5CC(CC(C5)C3)C4)CC2)c1C\n",
       "1   0  CID2999679                Cn1ccnc1SCC(=O)Nc1ccc(Oc2ccccc2)cc1\n",
       "2   1  CID2999672  COc1cc2c(cc1NC(=O)CN1C(=O)NC3(CCc4ccccc43)C1=O...\n",
       "3   0  CID5390002  O=C1/C(=C/NC2CCS(=O)(=O)C2)c2ccccc2C(=O)N1c1cc...\n",
       "4   1  CID2999670                          NC(=O)NC(Cc1ccccc1)C(=O)O"
      ]
     },
     "execution_count": 76,
     "metadata": {},
     "output_type": "execute_result"
    }
   ],
   "source": [
    "df.head()"
   ]
  },
  {
   "cell_type": "markdown",
   "metadata": {},
   "source": [
    "# API TEST"
   ]
  },
  {
   "cell_type": "code",
   "execution_count": 156,
   "metadata": {},
   "outputs": [],
   "source": [
    "instances = df.drop(\"P1\", axis=1).to_dict(orient=\"records\")\n",
    "api_url = \"https://servier-api.herokuapp.com/\"\n",
    "#api_url = \"http://127.0.0.1:8080/\""
   ]
  },
  {
   "cell_type": "code",
   "execution_count": 158,
   "metadata": {},
   "outputs": [
    {
     "name": "stdout",
     "output_type": "stream",
     "text": [
      "CPU times: user 21.1 ms, sys: 6.83 ms, total: 27.9 ms\n",
      "Wall time: 2 s\n"
     ]
    }
   ],
   "source": [
    "%%time\n",
    "import requests\n",
    "r = requests.get(api_url+\"predict\", json=instances[22:30])#, headers = {'content-type': 'application/json', 'Accept-Charset': 'UTF-8'})"
   ]
  },
  {
   "cell_type": "code",
   "execution_count": 162,
   "metadata": {},
   "outputs": [
    {
     "name": "stdout",
     "output_type": "stream",
     "text": [
      "{'Connection': 'keep-alive', 'Content-Type': 'application/json', 'Content-Length': '105', 'Access-Control-Allow-Origin': '*', 'Server': 'Werkzeug/1.0.1 Python/3.7.6', 'Date': 'Tue, 08 Dec 2020 14:25:23 GMT', 'Via': '1.1 vegur'}\n"
     ]
    }
   ],
   "source": [
    "print(r.headers)"
   ]
  },
  {
   "cell_type": "code",
   "execution_count": 155,
   "metadata": {},
   "outputs": [
    {
     "data": {
      "text/plain": [
       "{'predictions': [1.0, 1.0, 1.0, 1.0, 1.0, 1.0, 1.0, 0.0]}"
      ]
     },
     "execution_count": 155,
     "metadata": {},
     "output_type": "execute_result"
    }
   ],
   "source": [
    "r.json()"
   ]
  },
  {
   "cell_type": "code",
   "execution_count": null,
   "metadata": {},
   "outputs": [],
   "source": []
  },
  {
   "cell_type": "markdown",
   "metadata": {},
   "source": [
    "# Sandbox"
   ]
  },
  {
   "cell_type": "code",
   "execution_count": 113,
   "metadata": {},
   "outputs": [],
   "source": [
    "import glob\n",
    "from servier.data import *\n",
    "path=LOCAL_PATH + 'models/'\n",
    "path2=LOCAL_PATH + 'final_models/'"
   ]
  },
  {
   "cell_type": "code",
   "execution_count": 143,
   "metadata": {},
   "outputs": [],
   "source": [
    "def get_pipeline_model_from_path(path, archi='cnn'):\n",
    "    l = glob.glob(path+'/*')\n",
    "    l_pipelines = [m for m in l if 'keras_pipeline_'+archi in m]\n",
    "    l_model = [m for m in l if 'keras_model_'+archi in m]\n",
    "    l_model.sort()\n",
    "    l_pipelines.sort()\n",
    "    res = []\n",
    "    for p, m in zip(l_pipelines, l_model):\n",
    "        suff_p, suff_m = p.split('-')[-1], m.split('-')[-1]\n",
    "        end_p = suff_p.replace('.joblib', '')\n",
    "        end_m = suff_m.replace('.h5', '')\n",
    "        if end_m == end_p or suff_p.replace('_pipeline', '_model') == suff_m.replace('.h5', '.joblib'):\n",
    "            res.append((p, m))\n",
    "    return res"
   ]
  },
  {
   "cell_type": "code",
   "execution_count": 144,
   "metadata": {},
   "outputs": [],
   "source": [
    "l = get_pipeline_model_from_path(path)"
   ]
  },
  {
   "cell_type": "code",
   "execution_count": 146,
   "metadata": {},
   "outputs": [
    {
     "data": {
      "text/plain": [
       "('/Users/jeanbizot/Documents/projets/PERSO/servier/servier/data/models/keras_pipeline_cnn-0.8879_0.5545.joblib',\n",
       " '/Users/jeanbizot/Documents/projets/PERSO/servier/servier/data/models/keras_model_cnn-0.8879_0.5545.h5')"
      ]
     },
     "execution_count": 146,
     "metadata": {},
     "output_type": "execute_result"
    }
   ],
   "source": [
    "l[0]"
   ]
  },
  {
   "cell_type": "code",
   "execution_count": null,
   "metadata": {},
   "outputs": [],
   "source": []
  }
 ],
 "metadata": {
  "kernelspec": {
   "display_name": "Python 3",
   "language": "python",
   "name": "python3"
  },
  "language_info": {
   "codemirror_mode": {
    "name": "ipython",
    "version": 3
   },
   "file_extension": ".py",
   "mimetype": "text/x-python",
   "name": "python",
   "nbconvert_exporter": "python",
   "pygments_lexer": "ipython3",
   "version": "3.6.12"
  }
 },
 "nbformat": 4,
 "nbformat_minor": 2
}
