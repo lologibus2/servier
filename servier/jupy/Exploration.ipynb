{
 "cells": [
  {
   "cell_type": "code",
   "execution_count": 1,
   "metadata": {},
   "outputs": [],
   "source": [
    "import pandas as pd\n",
    "from servier.utils import describe_df\n",
    "import numpy as np\n",
    "PATH = '/Users/jeanbizot/Documents/projets/PERSO/servier/servier/data/'"
   ]
  },
  {
   "cell_type": "code",
   "execution_count": 2,
   "metadata": {},
   "outputs": [],
   "source": [
    "file_path = PATH + 'dataset_single.csv'\n",
    "file_path_multi = PATH + 'dataset_multi.csv'"
   ]
  },
  {
   "cell_type": "code",
   "execution_count": 3,
   "metadata": {},
   "outputs": [],
   "source": [
    "df = pd.read_csv(file_path)\n",
    "df2 = pd.read_csv(file_path_multi)"
   ]
  },
  {
   "cell_type": "code",
   "execution_count": 87,
   "metadata": {},
   "outputs": [
    {
     "data": {
      "text/plain": [
       "array(['CCn1c2ccccc2c2cc(NC(=O)C(C)Oc3ccccc3)ccc21',\n",
       "       'O=c1nc(SCc2ccccc2Cl)[nH]c2c1CCC2',\n",
       "       'CCOC(=O)c1c(C)[nH]c(-c2csc(C)n2)c1C',\n",
       "       'CC1CCN(S(=O)(=O)c2ccc3[nH]c(=O)cc(C(=O)O)c3c2)CC1',\n",
       "       'Cc1cc(NC(=S)NC(=O)c2ccco2)c2ccccc2n1',\n",
       "       'COc1ccc(-c2nnc(NC(=O)c3ccccc3F)s2)cc1',\n",
       "       'CCOC(=O)c1cnc(SC)nc1Oc1cccc(NS(=O)(=O)c2ccc(C)cc2)c1',\n",
       "       'COc1ccc(C(C)=O)cc1COC(=O)c1ccc(S(=O)(=O)N(C)C)cc1',\n",
       "       'Cc1csc2ncc(C(=O)Nc3ccc4c(c3)OCCO4)c(=O)n12',\n",
       "       'O=C(Cc1n[nH]c(=O)[nH]c1=O)N/N=C/c1cccc(O)c1'], dtype=object)"
      ]
     },
     "execution_count": 87,
     "metadata": {},
     "output_type": "execute_result"
    }
   ],
   "source": [
    "df.sample(10).smiles.values"
   ]
  },
  {
   "cell_type": "markdown",
   "metadata": {},
   "source": [
    "# Rdkit exploration"
   ]
  },
  {
   "cell_type": "code",
   "execution_count": 77,
   "metadata": {},
   "outputs": [],
   "source": [
    "from rdkit.Chem import rdMolDescriptors, MolFromSmiles, rdmolfiles, rdmolops, DataStructs"
   ]
  },
  {
   "cell_type": "code",
   "execution_count": 78,
   "metadata": {},
   "outputs": [],
   "source": [
    "smile = \"Cc1cccc(N2CCN(C(=O)C34CC5CC(CC(C5)C3)C4)CC2)c1C\""
   ]
  },
  {
   "cell_type": "code",
   "execution_count": 79,
   "metadata": {},
   "outputs": [],
   "source": [
    "mol = MolFromSmiles(smile)\n",
    "new_order = rdmolfiles.CanonicalRankAtoms(mol)"
   ]
  },
  {
   "cell_type": "code",
   "execution_count": 80,
   "metadata": {},
   "outputs": [
    {
     "data": {
      "image/png": "[encoded data removed]",
      "text/plain": [
       "<rdkit.Chem.rdchem.Mol at 0x126cb72b0>"
      ]
     },
     "execution_count": 80,
     "metadata": {},
     "output_type": "execute_result"
    }
   ],
   "source": [
    "mol"
   ]
  },
  {
   "cell_type": "code",
   "execution_count": 82,
   "metadata": {},
   "outputs": [],
   "source": [
    "import streamlit as st\n",
    "\n",
    "\n",
    "\n",
    "list_compounds = [Chem.MolFromSmiles(smile)]\n",
    "fig = Draw.MolsToGridImage(list_compounds, legends = ['methane'],\n",
    "                               molsPerRow = 1, maxMols = 1)  "
   ]
  },
  {
   "cell_type": "code",
   "execution_count": 86,
   "metadata": {},
   "outputs": [
    {
     "data": {
      "text/plain": [
       "b'\\x89PNG\\r\\n\\x1a\\n\\x00\\x00\\x00\\rIHDR\\x00\\x00\\x00\\xc8\\x00\\x00\\x00\\xc8\\x08\\x02\\x00\\x00\\x00\":9\\xc9\\x00\\x00\\x00\\x06bKGD\\x00\\xff\\x00\\xff\\x00\\xff\\xa0\\xbd\\xa7\\x93\\x00\\x00\\x1daIDATx\\x9c\\xed\\x9dy\\\\T\\xd5\\xfb\\xc7?\\x97aQ6\\x11\\x04\\x14\\x03sM\\xc4\\x95qK!S0\\xd1p\\xc9-)\\xd1\\xd0\\xaf\\xb8\\x94\\x84\\xf9S3\\x17\\xd2\\xec\\x1b\\xda\\xa2\\xa5\\x96\\x98&He\\xa2\\xa2\\x92\\x1aHf\\x8a\\x9a\\x08\\x82\\xb9k\\x92\\xa2\\xa2\\x02. \\x9b\\xc0\\xcc\\x9c\\xdf\\x1f\\xc7\\xee\\x17Yf\\xee\\xdc\\x99\\x03J\\xe7\\xfd\\xf2\\x0f\\xb8s\\xees\\x0e\\xe3\\xe7\\xde{\\xees\\x9e\\xe79\\x02!\\x04\\x1c\\x8e\\xb11\\xa9\\xeb\\x01p\\xea\\'\\\\X\\x1c&paq\\x98\\xc0\\x85\\xc5a\\x02\\x17\\x16\\x87\\t\\\\X\\x1c&paq\\x98\\xc0\\x85\\xc5a\\x02\\x17\\x16\\x87\\t\\\\X\\x1c&paq\\x98\\xc0\\x85\\xc5a\\x02\\x17\\x16\\x87\\t\\\\X\\x1c&paq\\x98\\xc0\\x85\\xc5a\\x02\\x17\\x16\\x87\\t\\\\X\\x1c&paq\\x98\\xc0\\x85\\xc5a\\x02\\x17\\x16\\x87\\t\\\\X\\x1c&paq\\x98\\xc0\\x85\\xc5a\\x02\\x17\\x16\\x87\\t\\\\X\\x1c&paq\\x98\\xc0\\x85\\xc5a\\x02\\x17\\x16\\x87\\t\\\\X\\x1c&paq\\x98\\xc0\\x85\\xc5a\\x02\\x17\\x16\\x87\\t\\\\X\\x1c&paq\\x98\\xc0\\x85\\xc5a\\x02\\x17\\x16\\x87\\t\\\\X\\x1c&paq\\x98\\xc0\\x85\\xc5a\\x02\\x17\\x16\\x87\\t\\\\X\\x1c&\\x98\\xd6\\xf5\\x008LP\\xa9T\\x9f|\\xf2\\xc9\\xa9S\\xa7\\xae]\\xbb\\xe6\\xe5\\xe5\\xe5\\xe5\\xe5\\xd5\\xbf\\x7f\\xff&M\\x9a\\xd4\\xda\\x00\\x04\\xbe\\x97N\\xfdC\\xa3\\xd1\\x04\\x06\\x06\\xfe\\xf8\\xe3\\x8f\\x15\\x0f\\n\\x82\\xe0\\xe1\\xe1\\xe1\\xed\\xed\\xed\\xe5\\xe5\\xe5\\xed\\xed\\xed\\xea\\xea\\xcat\\x0c\\\\X\\xf5\\rB\\xc8\\x8c\\x193\\xd6\\xad[gffV^^\\xbed\\xc9\\x12\\x0b\\x0b\\x8b_\\x7f\\xfd\\xf5\\xe8\\xd1\\xa3%%%b\\xb3f\\xcd\\x9ayyy\\xf5\\xed\\xdb\\xd7\\xcb\\xcb\\xab[\\xb7n&&\\xc6\\x9e\\x14\\x11N\\xfdb\\xee\\xdc\\xb9\\x00\\x1a6l\\xf8\\xea\\xab\\xaf\\x02\\x88\\x88\\x88\\xa0\\xc7\\xcb\\xcb\\xcbSSSW\\xadZ5f\\xcc\\x18\\x07\\x07\\x87\\x8a\\x1a\\xb0\\xb5\\xb5\\xf5\\xf5\\xf5\\r\\x0f\\x0fOJJz\\xf4\\xe8\\x91Q\\x86\\xc1\\x85U\\xafX\\xb2d\\t\\x0033\\xb3={\\xf6\\xcc\\x9e=\\x1b\\xc0\\x8a\\x15+\\xaa6S\\xab\\xd5\\xa7O\\x9f^\\xb3fM@@@\\xf3\\xe6\\xcd+\\x8a\\xcc\\xca\\xca\\xca\\xc7\\xc7\\xe7\\xc3\\x0f?\\xbcz\\xf5\\xaa!#\\xe1\\xc2\\xaa?\\xac^\\xbd\\x1a\\x80B\\xa1\\xf8\\xe9\\xa7\\x9f\\x08!K\\x97.\\x05\\xb0`\\xc1\\x02\\x9d\\'fee\\xc5\\xc4\\xc4\\x84\\x84\\x84(\\x95JA\\x10\\xa8\\xc2\\xe6\\xcc\\x99\\x93\\x91\\x91!{0\\x0c\\x85\\xb5i\\xd3\\xa6e\\xcb\\x96Q\\xf9\\x1f8p\\xa0\\xb0\\xb0\\x90]_\\x9c\\xc8\\xc8H\\x13\\x13\\x13A\\x10\\xbe\\xfd\\xf6[z\\xe4\\xab\\xaf\\xbe\\x02\\xf0\\xf6\\xdbo\\xebe\\'\\'\\'\\'66\\xb6c\\xc7\\x8e\\x00\\xc2\\xc3\\xc3e\\x8f\\x87\\x95\\xb0V\\xadZ\\x05\\xa0Q\\xa3F\\xe2=V\\xa1P(\\x95\\xca\\x90\\x90\\x90\\x98\\x98\\x98\\xdc\\xdc\\\\F\\xfd\\xfe;\\x89\\x8d\\x8d555\\x05\\xf0\\xd9g\\x9f\\x89\\x07\\xa3\\xa2\\xa2\\x00\\x8c\\x1f?^\\x9eA\\x00^^^\\xb2\\x87\\xc4DX\\xe2\\xd5\\xf3\\xc5\\x17_\\xc4\\xc5\\xc5\\xcd\\x9b7\\xafo\\xdf\\xbe\\xe6\\xe6\\xe6\\x15\\x9f\\xe5\\xadZ\\xb5\\n\\x0c\\x0c\\x8c\\x88\\x888{\\xf6,\\x8b1\\xfc{\\xd8\\xbf\\x7f\\xbf\\x85\\x85\\x05\\x80e\\xcb\\x96U<\\xbek\\xd7.\\x00C\\x87\\x0e\\x95a\\xb3\\xb0\\xb0\\xb0A\\x83\\x06\\n\\x85B\\xf6-\\xc0\\xf8\\xc2\\xda\\xb1cG\\xd5\\xab\\x87\\x10RXX\\x98\\x94\\x94\\x14\\x1e\\x1e\\xee\\xef\\xefokk[Qd\\xcd\\x9a5\\x1b3f\\xcc\\xaaU\\xabRSS\\xd5j\\xb5\\xd1\\x87T\\x8f9z\\xf4\\xa8\\x95\\x95\\x15\\x80\\xd0\\xd0\\xd0J\\x1f\\xfd\\xfe\\xfb\\xef\\x00\\xbc\\xbd\\xbd\\xe5Y\\x1e4h\\x10\\x80\\xcd\\x9b7\\xcb;\\xdd\\xc8\\xc2JHH\\xa8z\\xf5\\xe4\\xe6\\xe6\\xe6\\xe7\\xe7WlVVVv\\xec\\xd8\\xb1\\x15+V\\x0c\\x1d:\\xd4\\xde\\xde\\xbe\\xa2\\xc8\\x1c\\x1c\\x1c\\x86\\r\\x1b\\xf6\\xd9g\\x9f]\\xbe|\\xd9\\xb8c\\xab\\x7f$\\'\\'\\xdb\\xd8\\xd8\\x00\\x984i\\x92F\\xa3\\xa9\\xf4izz:\\x80\\xce\\x9d;\\xcb3N_\\x05^\\x7f\\xfduy\\xa7\\x1bSXG\\x8e\\x1c\\xa9\\xf6\\xea\\xf9\\xe0\\x83\\x0f\\x14\\nE\\x87\\x0e\\x1d\\x82\\x83\\x83\\xa3\\xa2\\xa2233+\\x9d\\x98\\x91\\x91\\x11\\x15\\x15\\x15\\x1c\\x1c\\xdc\\xb2eKQa\\xa1\\xa1\\xa1g\\xce\\x9c1\\xe2\\xf0\\xea\\x19g\\xce\\x9c\\xa1\\xee\\xa87\\xdf|\\xb3\\xda\\xdb\\xfc\\xd5\\xabW\\x01\\xb4h\\xd1B\\x9e\\xfd\\xcc\\xccL:K.--\\x95q\\xba\\xd1\\x84%^=\\xd3\\xa7O\\xaft\\xf5\\xcc\\x981\\xa3\\xd2\\x04\\xabm\\xdb\\xb6AAA\\x9b6m\\xaaz[\\xbaz\\xf5\\xea\\xe6\\xcd\\x9b\\xbbw\\xef\\x0e`\\xc6\\x8c\\x19\\xc6\\x1a^=\\xe3\\xaf\\xbf\\xfej\\xd6\\xac\\x19\\x80a\\xc3\\x86\\x95\\x97\\x97W\\xdb\\xe6\\xfe\\xfd\\xfbT\\x19\\xb2{\\xa1\\xef\\x86\\x07\\x0e\\x1c\\x90q\\xaeq\\x84u\\xfa\\xf4iz\\xf5\\x8c\\x1f?\\xbe\\xda\\xab\\xa7\\xac\\xac,55\\x95N\\xb0\\x1a7n\\\\Qd\\xce\\xce\\xce\\xfe\\xfe\\xfe\\xd4\\xed[VVF\\xdb\\xa7\\xa6\\xa6\\x02puu\\xadz\\x87\\xe7\\xdc\\xb8q\\xe3\\xf9\\xe7\\x9f\\x07\\xe0\\xe3\\xe3SRRRS3\\x95J%\\x08\\x82\\x89\\x89\\x89\\xeci\\xeb\\xfc\\xf9\\xf3\\x01\\xcc\\x9a5K\\xc6\\xb9F\\x10\\x96x\\xf5\\x0c\\x1f>\\xbc\\xa6\\xab\\xa7\"*\\x95\\x8a\\xae-\\x8c\\x1a5\\xca\\xd9\\xd9\\xb9\\xa2\\xc8\\xc2\\xc2\\xc2h\\x1b\\x8dFC=\\xc2\\x7f\\xfe\\xf9\\xa7\\xe1#\\xacO\\xe4\\xe4\\xe4\\xb8\\xbb\\xbb\\x03\\xe8\\xdd\\xbbwAA\\x81\\xf6\\xc6\\xf4\\x19\\x92\\x97\\x97\\'\\xaf\\xaf\\xa3G\\x8f\\x02h\\xdd\\xba\\xb5\\x8cs\\r\\x15\\x96\\xc4\\xabG\\x0b\\x17/^\\xdc\\xb0a\\xc3\\xc4\\x89\\x13[\\xb7n\\x1d\\x1f\\x1f/\\x1e\\x9f2eJ\\xd5Wh\\xce\\xe1\\xc3\\x87---;u\\xea\\xf4\\xe0\\xc1\\x03\\x9d\\x8d\\x9f{\\xee9\\x00U\\'\\xb5\\x12Q\\xab\\xd5NNN\\x00.^\\xbc\\xa8\\xef\\xb9\\x06\\t+\\'\\'\\xa7}\\xfb\\xf6\\x12\\xaf\\x1e}\\xd9\\xbd{7\\xb5l\\\\\\xb3\\xcf:\\x01\\x01\\x01U]95A\\'I\\x86\\xdc\\xf5\\'L\\x98\\x00\\xe0\\xd3O?\\xd5\\xf7D\\xf9\\xc1\\x12\\xf9\\xf9\\xf9\\x83\\x06\\r\\xbax\\xf1b\\x97.]\\xf6\\xed\\xdbgmm-\\xdbT\\xb5\\x0c\\x1c8\\xd0\\xd2\\xd2\\xf2\\xc4\\x89\\x13\\xd9\\xd9\\xd9\\xc6\\xb5\\xfcL\\xe3\\xeb\\xeb\\x0b\\xe0\\xd0\\xa1CR\\x1a\\xd3\\x95\\x8f\\xfc\\xfc|\\xd9\\xdd\\xf9\\xfb\\xfb\\x03\\xd8\\xbbw\\xaf\\xdeg\\xca\\x13rQQ\\x91\\x97\\x97\\x17\\x80v\\xed\\xda\\xdd\\xb9sG\\x9e\\x11\\x9d\\x0c\\x192\\x04\\xc0\\xa6M\\x9b\\x18\\xd9\\x7f\\x16\\xc9\\xce\\xce611i\\xd8\\xb0aQQ\\x91\\xce\\xc6\\xf4\\x0b\\xfc\\xf9\\xe7\\x9few\\x97\\x9f\\x9fonn\\xaeP(\\xee\\xde\\xbd\\xab\\xd7\\x89r\\xeeXeee#G\\x8e<r\\xe4\\x88\\x9b\\x9b[bbb\\xa5\\t\\xb8\\x11\\xa1\\x97\\xcb\\x9e={\\x18\\xd9\\x7f\\x16qrr\\xea\\xde\\xbd{II\\xc9o\\xbf\\xfd\\xa6\\xb3\\xb1\\x9d\\x9d\\x1d\\x80\\xbc\\xbc<\\xd9\\xdd\\xd9\\xda\\xdaz{{\\xab\\xd5\\xea\\xfd\\xfb\\xf7\\xebu\\xa2\\xde\\xc2*//\\x1f5jTBB\\x82\\x8b\\x8b\\xcb\\xc1\\x83\\x07\\xdd\\xdc\\xdc\\xf4\\xb5 \\x1d\\x7f\\x7f\\x7fA\\x10\\x12\\x12\\x12JKK\\xd9\\xf5R\\x91?\\xff\\xfcs\\xcd\\x9a5+V\\xac8v\\xecXYYY\\xedt\\xaa/\\xd2\\xaf7\\xc3\\x1f\\x85zu\\xf7\\x04\\xfa\\xde\\x1b/\\\\\\xb8`gggoo\\x7f\\xee\\xdc9}\\xcf\\x95A\\xd7\\xae]\\x01\\xec\\xdf\\xbf\\xbf\\x16\\xfa\\x8a\\x88\\x88\\x10\\x04A\\xcc8033S*\\x95\\xf3\\xe6\\xcd\\x8b\\x8b\\x8b\\xbb\\x7f\\xff~-\\x0c@\"iii\\x00\\\\\\\\\\\\t:\\xf9\\xa8#\\xea\\xe3\\x8f?6\\xa4\\xbb\\x8c\\x8c\\x0c\\x00\\x8d\\x1b7\\x96\\xe2K\\x12\\xd1[X\\xcb\\x96-\\x030i\\xd2$}O\\x94\\xc7\\xc2\\x85\\x0b\\x01\\x84\\x84\\x84\\xb0\\xeeh\\xdb\\xb6m\\n\\x85B\\x10\\x84\\xa0\\xa0\\xa0i\\xd3\\xa6yxx\\x88!o\\x00LMM\\xbbw\\xef\\x1e\\x1a\\x1a\\xbac\\xc7\\x8e\\xec\\xecl\\xd6\\x83\\xd1I\\x8b\\x16-\\x00\\xa4\\xa5\\xa5io\\x16\\x1e\\x1e\\x0e`\\xee\\xdc\\xb9\\x06vG=g\\x87\\x0e\\x1d\\x92~\\x8a\\xde\\xc2\\xfa\\xf5\\xd7_Qai\\xf3\\xda\\xb5kk\\xd6\\xac\\xb9}\\xfb\\xb6\\xbev$r\\xfc\\xf8q\\x00-[\\xb6dd\\x9f\\xb2{\\xf7n333<\\x19\\xda\\xf6\\xf0\\xe1\\xc3\\xc4\\xc4\\xc4\\xb0\\xb00___\\xba\\xb2.R\\xe71?\\xd3\\xa6M\\x03\\xb0t\\xe9R\\xed\\xcd\\xbe\\xf9\\xe6\\x1b\\x00\\xc1\\xc1\\xc1\\x06v7g\\xce\\x1c\\x00s\\xe6\\xcc\\x91~\\x8a\\xde\\xc2*++\\xa3SB\\x1a\\x13=|\\xf8p\\x00\\xeb\\xd7\\xaf\\xd7\\xd7\\x8eD\\xd4ju\\xd3\\xa6M\\x01\\xb0{\\xf2\\x1e8p\\xa0A\\x83\\x06\\x00\\x16.\\\\XS\\x9b\\xa2\\xa2\"1\\xe6\\x87\\xfe\\xf9\"M\\x9b6\\xa5KR\\xb5\\x19\\xf3Cg<={\\xf6\\xd4\\xde\\x8cf\\x80\\xc9\\x8eP\\x10\\xa1\\xde\\rwww\\xe9\\xa7\\xc8q7\\x8c\\x193\\x06\\xc0\\x9a5k\\x08!\\xdf~\\xfb-\\x80a\\xc3\\x86\\xc9\\xb0#\\x91\\xa0\\xa0 \\x18\\x16&\\xab\\x85?\\xfe\\xf8\\x83z\\xe0\\xa4\\x87\\xf0\\xaaT\\xaa\\xb3g\\xcfFDD\\x8c\\x193\\xc6\\xd1\\xd1\\xb1\\xa2\\xc8\\xb6l\\xd9\"\\xc5\\x0b`8\\xc5\\xc5\\xc5\\x96\\x96\\x96\\x82 deeii\\xb6o\\xdf>\\x00~~~\\x06v\\xf7\\xe1\\x87\\x1f*\\x14\\nWW\\xd7+W\\xaeH<E\\x8e\\xb0h\\xcc+\\x1d\\xee\\x9d;w\\xa4\\xbbU\\xe4\\xb1c\\xc7\\x0e\\x18\\x16&[\\x13\\xa7N\\x15999\\x03x\\xeb\\xad\\xb7\\xe4\\xadvk4\\x9a\\xf3\\xe7\\xcf\\xaf_\\xbf>00\\xd0\\xd6\\xd6V\\x10\\x04\\x9a\\xc8P\\x0b\\x0c\\x1d:\\x14\\xc0\\x86\\r\\x1b\\xb4\\xb4\\xa1\\x8b}\\x06\\xae^\\xd0\\xc0,:\\xe3\\\\\\xb9r\\xa5\\xc4\\xb3\\xe4\\x08\\xeb\\xee\\xdd\\xbb\\n\\x85\\xc2\\xc2\\xc2\\xe2\\xe1\\xc3\\x87\\x84\\x90\\x1e=z\\x00\\xd8\\xbbw\\xaf\\x0cSR(((00L\\xb6Z.\\\\ NND\\xa9Lx\\xe3\\x8d\\t*\\x95\\xcap\\x83\\x9f\\x7f\\xfe9\\xe4\\xc6\\x98\\xcb \"\"\\x02\\xc0\\x88\\x11#\\xb4\\xb49{\\xf6\\xac\\xbe\\x8f\\xb0JDEE\\xd1(s\\xbat\\xeb\\xe3\\xe3#\\xf1D\\x99\\x9e\\xf7>}\\xfa\\x00\\xd8\\xb9s\\'\\xf9\\'\\x97m\\xfa\\xf4\\xe9\\xf2LI\\x81\\x86\\xc9FGG\\x1b\\xcb\\xe0\\xf5\\xeb\\xa4E\\x0b\\x02\\x90\\x81\\x03\\x89\\x9124\\xc9\\x95+W\\x00\\xd8\\xdb\\xdb\\xeb\\xf5Z.\\x9b\\xac\\xac,A\\x10\\xac\\xac\\xac\\xb4\\xac\\xfd\\xdf\\xbcy\\x13@\\xb3f\\xcd\\xe4uQ1G#//\\xcf\\xcc\\xcc\\xcc\\xcc\\xccL\\xca\\xe27\\x91-\\xac\\xff\\xfe\\xf7\\xbf\\x00&O\\x9eL\\x089y\\xf2$\\x80\\xe6\\xcd\\x9b\\xb3\\x8b\\x9d\\xa2\\x99L\\x86OB)\\xd9\\xd9\\xe4\\x85\\x17\\x08@\\xfa\\xf4!\\xc6\\xcdIk\\xd7\\xae\\x1d\\x80\\xa4\\xa4$c\\x1a\\xad\\x19OOO\\x00\\xbf\\xfc\\xf2KM\\r\\n\\n\\n\\x00XZZ\\xca0.\\xe6h|\\xf4\\xd1G\\xf4\\xc8\\xcb/\\xbf\\x0c &&F\\xca\\xe92\\x85u\\xe6\\xcc\\x19\\x00NNNj\\xb5Z\\xa3\\xd1\\xd0\\xf0\\x8c\\xf4\\xf4ty\\xd6\\xaa\\x92\\x95\\x95\\x15\\x1c\\x1c\\\\\\\\\\\\L\\x7f\\xbdv\\xed\\x1a\\xfd\\x82bcc\\xef\\xdd\\xbbg\\x88\\xe5\\x07\\x0fH\\xd7\\xae\\x04 ]\\xbb\\x12i\\xd7\\x9e\\x1e\\xd0\\xe4\\xe3y\\xf3\\xe6\\x19\\xd9n\\r\\x84\\x85\\x85\\xe9|\\xed\\xa0\\xb7\\x1c}\\xc3\\x8b\\xc5\\x1c\\x8dw\\xdf}W<\\xf8\\xe9\\xa7\\x9f\\x02\\x980a\\x82\\x14\\x0b\\xf2\\xc3fh|\\xfa\\x89\\x13\\'\\x08!S\\xa7N\\xad(m\\x03\\xc9\\xcd\\xcd\\xed\\xd0\\xa1\\x03\\x80\\x993g\\xd2#\\t\\t\\t\\xe6\\xe6\\xe6\\xa2O\\\\t#\\xfd\\xfd\\xf7\\xdfzY\\xce\\xcf\\'=z\\x10\\x80t\\xecH\\xf4\\\\T\\x95\\xc4\\xc1\\x83\\x07\\x01xxx\\x18\\xdftu\\xa4\\xa4\\xa4\\x00pss\\xd3\\xd2\\x86\\xe6\\xaa\\xe85=\\x15\\xa3\\xcc\\x83\\x82\\x82*>\\x85.^\\xbc\\x08\\xc0\\xc1\\xc1A\\xca\\x94T\\xbe\\xb0\\xdey\\xe7\\x1d\\x00\\x8b\\x17/&\\x84\\xc4\\xc5\\xc5\\x01\\xe8\\xd5\\xab\\x97lk\"\\xf9\\xf9\\xf94\\xe0\\xbdS\\xa7NtE\\xfd\\xe0\\xc1\\x83\\r\\x1b6\\xa4/\\x86\\xfd\\xfa\\xf5\\xa3?\\x8b\\xb4h\\xd1b\\xe2\\xc4\\xc9\\x11\\x11\\x9as\\xe7\\x88\\xceG\\xf1\\xc4\\x89\\x04 m\\xda\\x90[\\xb7\\x0c\\x1fi5\\x94\\x97\\x97\\xd3\\xc0\\xeb\\xbf\\xfe\\xfa\\x8bI\\x07O\"\\xc6\\xd9\\x9e>}\\xba\\xa66\\xadZ\\xb5\\x02 \\xddM\\xa0=G\\xa3m\\xdb\\xb6\\x00\\x8e\\x1e=\\xaa\\xd3\\x8e|a\\xc5\\xc7\\xc7\\x03\\xf0\\xf4\\xf4$\\xff\\xb8ULLL\\x0ct\\xc1\\x17\\x17\\x17\\xbf\\xf4\\xd2K\\x00\\xda\\xb4is\\xeb\\xd6-R\\xe1\\xea\\x11\\x13+\\xaaVM\\xf1\\xf0\\x08\\x02\\x08@lm\\x89\\xaf/\\t\\x0f\\'II\\x8f\\xa7\\xe4\\xf9\\xf9\\xc4\\xcf\\xef\\xf1\\xcdi\\xfbv\\xb2s\\'\\xf1\\xf3#\\x86U\\xbb\\xd0\\xc1\\xb8q\\xe3\\x00|\\xf3\\xcd&\\x86}T\\xe0?\\xff\\xf9\\x0f\\xb4\\xae\\x06v\\xeb\\xd6\\r@jj\\xaa\\x14k:s4f\\xcd\\x9a\\x05`\\xfe\\xfc\\xf9:M\\xc9\\x17\\xd6\\xa3G\\x8flll\\x04A\\xb8q\\xe3\\x06!\\x84\\xae\\x81\\x7f\\xf7\\xddw\\xb2\\r\\x96\\x96\\x96\\xd2\\xf8\\xa1\\xe7\\x9e{\\x8e\\xba\\xf5u\\xe6h\\xd0\\xaa)\\x9b6\\xa5\\x8f\\x1bG\\x9a7\\'T^\\xf4\\x9f\\x95\\x15\\xf1\\xf1!\\x91\\x91\\xa4M\\x1b2y2!\\x84|\\xf1\\x05\\xd9\\xb6M\\xf6\\xe8\\xa4\\xb2}\\xfb\\x05W\\xd7\\x8c\\x81\\x03\\x99wD\\xa1\\xe9\\xce/\\xbc\\xf0Bzzz\\xb5O(:\\xe3\\x96\\x92i#%\\xca\\xfc\\xc0\\x81\\x03\\x00:v\\xec\\xa8\\xd3\\x9aA\\xa1\\xc9\\xaf\\xbd\\xf6\\x1a\\x80u\\xeb\\xd6\\x11B\\xd6\\xad[\\x07`\\xe4\\xc8\\x91\\xf2L\\xa9T\\xaa\\xb1c\\xc7\\x02ptt<\\x7f\\xfe<\\xd1?G\\x83\\x10\\x92\\x95EbbHH\\x08Q*\\x89 \\x10\\x80\\xacXAF\\x8e$\\x93&\\x91\\xc3\\x87kIX\\xf7\\xee\\x11SSbnN\\x1e>d\\xde\\x17!d\\xc3\\x86\\r\\x16\\x16\\x16\\xb4l\\x9a\\xb5\\xb5\\xb5\\xaf\\xafoXXXbb\\xa2\\xf8\\xde3b\\xc4\\x08\\x00\\xb1\\xb1\\xb1\\xda\\xedH\\xcc\\xd1\\x10\\x17\\xf4t\\xcen\\r\\x12\\xd6\\xc6\\x8d\\x1b\\xf1Ou\\x00\\xeaV\\xb1\\xb6\\xb6\\x96\\x91R\\xa1\\xd1h&O\\x9e\\x0c\\xa0Q\\xa3F\\'O\\x9e$\\xc6\\xc8\\xd1\\xc8\\xc9!\\xb1\\xb1\\xe4\\xcf?\\xc9\\xc8\\x91$;\\x9bx{\\x93\\x15+jCX\\x84\\x10oo\\x02\\x90\\xed\\xdb\\x99w$V3\\xa0\\x17d\\xc5\\xa9\\xa7\\x85\\x85\\x85\\x97\\x97\\xd7\\x07\\x1f|\\xe0\\xe3\\xe3\\xa3\\xf3I\\x92\\x97\\x97G=\\x17\\x9d;w\\xd6\\x19 D\\xaf\\xff\\xd5\\xabWkof\\x90\\xb0*\\x85\\xc9\\xce\\x9d;7::Z\\x86\\x0e\\xe8\\x93\\xdb\\xd2\\xd2\\x92z\\x80\\x8c\\x98\\xa3q\\xf7.\\xa1\\xf7\\xd0\\xaf\\xbf&\\xee\\xee\\xb5$\\xac\\xe5\\xcb\\t@\\x82\\x82\\xd8\\xf6\\x92\\x98\\x98H\\xfdLt\\xfe0z\\xf4\\xe8\\xdb\\xb7o\\xd3\\x12,J\\xa5\\xb2R\\xe9\\xc7\\xa6M\\x9b\\xd24\\xf4k\\xd7\\xaeU\\xb2#F\\x99\\xb7m\\xdbVJ\\x94\\xf9\\xe6\\xcd\\x9b\\x01\\x0c\\x1a4H{3C\\xd3\\xbfz\\xf6\\xec\\t\\xc3\\xa2\\xaa\\xdf\\x7f\\xff}\\x00\\xe6\\xe6\\xe64\\xf7+//\\x8f\\xce7\\xbbt\\xe9bxx\\x9d(,\\xb5\\x9a\\xf4\\xeaUK\\xc2:w\\x8e\\x00\\xc4\\xc9\\x89\\xb0\\x8bu8v\\xec\\x18];\\x9f9s\\xe6\\xf5\\xeb\\xd7\\xe9\\xb3\\xa2b\\x95\\xc7\\x82\\x82\\x02\\x1a\\xf3C\\xdf\\n+BK\\xb0\\xd0\\x98\\x9fG\\x8f\\x1e\\xd1U\\r77\\xb7\\xaa\\x9a\\xab\\x96{\\xf7\\xee\\x99\\x9a\\x9a\\x8a\\x0bz5a\\xa8\\xb0h\\xd9\\xb8i\\xd3\\xa6\\xc9;\\xfd\\xe3\\x8f?\\x06`ff\\x16\\x17\\x17G\\x18\\xe4hh4\\x84\\xde\\xf2\\x92\\x93\\xc9\\xec\\xd9\\xa4\\xd6\\xa2\\xa7\\xda\\xb4!\\x00\\xf9\\xe3\\x0f&\\xc6O\\x9d:E\\x9d\\x1a\\x13\\'N\\xa4~\\xa6.]\\xba\\x00HLL\\xac\\xda\\x98\\xae`\\x8e\\x193f\\xd9\\xb2e~~~\\x95\\xea\\xfcPu\\xba\\xb8\\xb8H\\xf7G\\x10B\\xe8\\xff\\x91\\xf6y\\x9b\\xa1\\xc2\\xa2a\\xb2M\\x9a4\\x91\\x91\\xd3\\x98\\x94\\x94\\x04@\\xa1Pl\\xd9\\xb2\\x85\\x10RZZ*^=\\xb2s,kb\\xd2$\\x02\\x90O>1\\xae\\xd5\\x1a\\t\\t!\\x00\\xa99\\xbeK>\\x97.]\\xa2\\xd9+#G\\x8e\\x14_\\x03\\x17,X\\x80\\'\\xbd\\xe4\"\\x1b6l\\xa0\\xaeN\\xfa\\xab\\x18\\xf3\\x13\\x18\\x18\\xe8\\xe6\\xe6\\xe6\\xec\\xec<~\\xfcx}\\xc3\\x15i`\\xaa\\xf6(b#\\x08\\xcb\\xda\\xda\\x9a\\xfa\\xc4\\x9d\\x9c\\x9c\\xc4*\\x0c\\x12\\xd7\\x10\\xc2\\xc2\\xc2hi\\xc3\\xb2\\xb22\\xea\\xb0pqq1\\xa4\\xf4eM\\xc4\\xc6\\x12\\x800\\x08\\xbd\\xa9\\x9e\\xfd\\xfb\\t@\\xbau3\\xb2\\xd9\\xcc\\xccL\\x9a\\xbd\\xf2\\xca+\\xafT|\\xf0\\xfd\\xf1\\xc7\\x1f\\x00Z\\xb5jU\\xf5\\x94m\\xdb\\xb6iy[\\x97\\xf7X\\xa0A\\x13tA\\xaf\\xa66\\x06\\t\\xeb\\xec\\xd9\\xb3\\xd4\\xcf\\xd4\\xbauk\\x1a\\xe7)bcc\\xe3\\xe7\\xe7\\xb7l\\xd9\\xb2C\\x87\\x0e\\xe9\\x9c\\xce\\xab\\xd5j\\xeaWl\\xd2\\xa4\\t\\xa3H\\xd1\\xc2B\\xd2\\xa0\\x01Q(H\\xed\\x14\\xa9\\xbc{\\x97,^Lrr\\x08!\\xe4\\xd2%\\xf2du0\\x99\\xdc\\xbcy\\x93N\\x98\\xfa\\xf7\\xef_\\xe9+U\\xab\\xd5\\xf46F=5\\x15ILL\\x040`\\xc0\\x00#\\x8c\\xa0\\x02\\xad[\\xb7\\x06p\\xfc\\xf8\\xf1\\x9a\\x1a\\xc8\\x17\\xd6\\x95+W\\\\\\\\\\\\\\xa8\\x97\\x96V\\x89\\xa1\\xc5w\\x83\\x83\\x83;t\\xe8P)\\x13A\\xac>Z5\\xefQ\\xa3\\xd1\\x04\\x07\\x07\\x03\\xb0\\xb5\\xb5MII\\x91=\\x1e\\x9d\\x0c\\x1aD\\x00\"\\xb7B\\x9d~\\xa4\\xa5\\x11\\x0b\\x0br\\xe2\\x04!\\x84\\xcc\\x9aE\\x92\\x93\\r5(\\xae\\x9f\\xf6\\xea\\xd5\\xab\\xdaY\\xf3[o\\xbd\\x05`\\xf9\\xf2\\xe5\\x95\\x8e\\x9f8q\\x02\\x80R\\xa94t\\x04O2s\\xe6L\\x00\\x8b\\x16-\\xaa\\xa9\\x81La\\xdd\\xbcy\\x93.B\\x0f\\x180\\xa0\\xda\\x1b\\xd2\\x9d;w\\xc4\\xea\\xa34OA\\xa4U\\xabV\\xf4\\xd5\\x97\\xba\\xd7i\\xa0\\xbe\\xa5\\xa5\\xa5^I 2X\\xbd\\x9a\\x00d\\xecX\\xa6\\x9d<&-\\x8d\\xbc\\xf9&\\x190\\x80\\xa8TF\\x10V~~\\xbeR\\xa9\\x04\\xd0\\xa9S\\xa7\\x9a\\x82;\\xb6o\\xdf\\x8e\\xea\\nC^\\xbe|\\x19@\\x9b6m\\x0c\\x1aA\\x15\\xa2\\xa2\\xa2\\x04A\\xd0\\x12\\xd5(GX999\\xe2\\xd5#\\xc5\\xcf\\x94\\x97\\x97\\xb7w\\xef\\xde\\xf9\\xf3\\xe7{yyUJw\\xa1\\xc5L,,,\\x12\\x12\\x12d\\x8cD/23\\x1f\\xaf\\'\\xca\\xaaP\\xa7\\x1fii$4\\x94|\\xf9%Y\\xb5\\x8a\\xcc\\x9aE\\xe2\\xe3Ih(\\x89\\x8d}\\xfcp\\xd4\\x8b\\xa2\\xa2\"q\\xfdT\\xcbRlAA\\x81\\x85\\x85E\\xd5\\\\\\xf8\\xdc\\xdc\\xdcN\\x9d:\\xb9\\xb8\\xb8hY\\xa8\\xd6\\x97\\xac\\xac,\\xfaP\\xfe\\xe1\\x87\\x1fjj\\xa3\\xb7\\xb0\\xf2\\xf2\\xf2\\xe8\\xd5\\xd3\\xb9sg\\x19\\xa1Q\\x15\\x97\\x90\\xed\\xed\\xed\\x05A\\xb0\\xb3\\xb3\\xabv\\xf7\\x04\\x16t\\xeaD\\x00\"\\xabB\\x9d~Pa\\x95\\x97\\x93~\\xfd\\xc8\\x9bo\\x92O>\\xf9\\xdf\"f\\xabV$0\\x90DDH\\xf2}\\x94\\x96\\x96\\x0e\\x1e<\\x18\\x80\\xab\\xab\\xab\\xce\\xad\"^y\\xe5\\x15\\x00\\xdf\\x7f\\xff}\\xa5\\xe3\\x8b\\x17/\\x06`oo\\x9fl\\xf8#\\x99\\x90\\xdc\\xdc\\\\\\x0f\\x0f\\x0f\\x00]\\xbbv\\xd5\\x12M\\xaa\\x9f\\xb0\\x8a\\x8a\\x8a\\xbc\\xbd\\xbd\\xa9\\x97\\xd6\\xf0\\\\B\\x95J\\xf5\\xc6\\x1bo\\xe0\\x9f\\xd8\\x9bZ`\\xd1\\xa2\\xe2\\x1e=\\xf6,[\\xc6\\xd6OZR\\xf2XX\\x84\\x90c\\xc7\\x88\\xb99\\x89\\x89!\\x1f~H||\\x88\\x95\\xd5\\x13+\\xe5\\xcd\\x9b\\x93\\xff\\xfb\\xbf\\x9f\\xd7\\xae]{\\xfa\\xf4\\xe9\\xaaoX*\\x95\\x8a&D999]\\xb8pAg\\xbf_~\\xf9%\\x80q\\xe3\\xc6U:^ZZ:j\\xd4(\\x00VVV\\xd5\\xfa\\xba\\xa4#\\x065u\\xec\\xd8Q{\\x99\\x10=\\x84UZZ\\xea\\xe7\\xe7G\\xaf\\x1e\\x89^Z\\x9dT\\x8c\\xbd\\xa9\\x05\\x0c)Q\\'\\x91\\xcb\\x97\\x89\\x9b\\x1bY\\xbf\\x9e\\xc4\\xc5=>\\x12\\x11A\\xae_\\x7f\\xfc\\xb3JE\\xce\\x9e%\\x11\\x11d\\xcc\\x18\\xe2\\xe8H\\x00\\xd2\\xa3\\xc7\\xab\\xe2{\\xb4\\xb8\\x84\\\\RR\\xa2\\xd1h&M\\x9a\\x04\\xc0\\xce\\xceNg\\xc63\\x85\\xc6\\xd96j\\xd4H\\xac\\xb8)\\xa2R\\xa9\\xe8\\xec\\xde\\xc2\\xc2\\x82f*\\xc8\\xa0\\xb8\\xb8\\xb8_\\xbf~\\xf4\\x0b\\xbc\\xa5+\\xa2M\\xaa\\xb0T*\\xd5\\xe8\\xd1\\xa3\\xe9\\xd5#\\xc3\\x17Z\\x13\\x95boXcH\\x89:)\\\\\\xbdJ\\x9e{\\x8e\\x00DJ\\xd5~\\x8d\\x86\\x9c;G6l\\x88\\x1e?~<M\\x99\\x17i\\xd8\\xb0!=bmm\\xadW\\\\.}H\\x1d<x\\xb0\\xba\\xee4!!!\\x00\\xcc\\xcd\\xcd\\xb7n\\xdd*\\xdd&\\xa5bP\\x93\\x94\\xc0]I\\xc2R\\xab\\xd5\\xf4\\x99eggg\\xc4\\xc0vJ\\xc5\\xd8\\x9bZ@v\\x89:\\x9d\\x18\\x98\\xa3q\\xeb\\xd6-q\\xa7$\\x13\\x13\\x13{{\\xfb\\x9e={R7\\xa1t\\xdf\\xde\\xbcy\\xf3\\x00\\xcc\\x9e=\\xbb\\xdaO5\\x1a\\r}\\x07W(\\x14\\xda\\x13\\x12+Q5\\xa8I\\'\\xba\\x85\\xa5\\xd1hh\\xa5\\x00[[[\\x1a\\xe1n\\\\h\\xec\\x8d\\xbf\\xbf\\xbf\\xd1-WKLL\\x0c\\x80~\\xfd\\xfa\\x19\\xd7\\xac\\x11s4z\\xf7\\xeeM_\\xb84\\x1a\\x8d\\xbeY\\xe0t\\x95L\\xbbs\\x81.\\xc8\\x08\\x82\\xf0\\xf9\\xe7\\x9fK\\xb1Y5\\xa8I\\n\\xba\\x85%n\\xacX\\xed\\r\\xd6p\\xf4*Qg8\\xb2K\\xd4i\\xb5i\\xcc\\x1c\\r\\xea.\\xa6U}\\xf5\\xcd\\x02W\\xa9Tty\\xed\\xd2\\xa5KZ\\x9a\\xad]\\xbb\\x96\\xc6\\xd5HI(z\\xef\\xbd\\xf7P!\\xa8I\":\\x84E\\x83\\x17\\xe8\\xc6\\x8a\\xd2\\x8d\\xeaK\\xaf^\\xbd`X\\xec\\x8d^\\xd02\\x9e?\\xfe\\xf8\\xa3Q\\xac\\x15\\x17\\x97\\xf6\\xebG\\x00\\xd2\\xba\\xb5qr4hf\\n\\xcd\\x8b\\x17\\xbdS\\xd2\\xd3l\\x02\\x03\\x03\\x01\\xe8\\xbc\\x1bEGG\\xd3 \\xc1\\x993gjI\\x08\\xa5\\x15\\xb6\\xc4\\xa0&\\xe9h\\x13V\\xa5\\x8d\\x15\\xd9A\\xe5;u\\xeaT\\xa6\\xbd\\x88\\xd0-\\xefF\\x8f\\x1em\\xb8\\xa9\\xb2\\xb2\\xb2W_}\\xf5\\xa5\\x97~tu%z\\xa6\\xa2\\xd5H\\xa5\\xcc\\x14\\xea\\x9d\\x92\\x9e\\x05\\xbeu\\xebV:\\x19Z\\xb8pa||\\xbc\\x96\\xa8\\xa9]\\xbbvQ\\x7fuppp\\xb5\\xcb\\xc9+W\\xae\\xa4\\x02\\xd8\\xae\\x7f8l\\x8d\\xc2\\x8a\\x89\\x89\\x11\\x04A\\x10\\x04C\\xf2#$B\\xb7\\x13\\x92R\\xa2\\xce(\\\\\\xb9r\\xc5\\xc1\\xc1\\xa1A\\x83\\x06\\x06\\xee:\\xf6\\xe4\\x9b\\xf2M#\\x8e\\x90n\\xe7L\\xbfy}\\xb3\\xc0\\x1f>|\\xb8~\\xfdz\\xf1\\x05S\\xfb.F\\xfb\\xf6\\xed\\xa3\\xe9t\\xe3\\xc6\\x8d\\xab\\xe4\\xa4X\\xbbv-\\x00\\x13\\x13\\x13y\\xb7\\xf6\\x1a\\x85u\\xff\\xfe\\xfd\\xde\\xbd{K\\xac\\'n8\\x12K\\xd4\\x19\\x8b\\x8c\\x8c\\x8cJ;\\xaf8::\\x8e\\x181\\xe2\\x8b/\\xbeHNN\\x96\\x92\\xbb\\xa1\\xd1hh\\xea\\x95^SZ\\x89\\xd0\\x82i4\\xd6E\\x8bw\\xaa&\\n\\n\\n\\xe2\\xe2\\xe2\\xe6\\xcc\\x99\\xf3\\xe2\\x8b/VZ\\xa8m\\xd7\\xae\\xdd\\xa4I\\x93\"##\\xc5\\xc8\\xbe\\xc3\\x87\\x0f\\xd3\\xe8?\\x7f\\x7f\\x7f1\\x05#::\\x9a\\xd6\\x02\\x91\\xfd\\xb6\\xae\\xedQ(o\\xdb\\'y\\xd0\\x17\\xcf%K\\x96\\xd4Z\\x8f\\x84\\x90\\x8c\\x8c\\x0c\\x1a\\xf2F\\x137D\\xac\\xac\\xac\\xfa\\xf6\\xedK\\xab\\x8f\\xd6\\xb4_\\x08\\xcd\\xa6\\xb7\\xb4\\xb4<|\\xf8\\xb0\\xd1\\x07&f\\xa6\\xd0\\xa0\\xab\\x8e\\x1d;\\xfa\\xb5l\\x99)k\\x91\\xbe\\xe2.F5\\x95\\x8c\\xdb\\xb0a\\x03\\x9d\\xf2\\xbf\\xfc\\xf2\\xcb\\x0f\\x1f>\\xdc\\xb5k\\x17\\x9d~\\x19\\xb2\\xd4\\xf6\\xb4l6NK\\xd4\\xf5\\xe8\\xd1\\xa3\\xae\\x06P\\xed\\x86\\xdbx2\\xe6G\\x9cA\\xd3\\x88Msss-\\x059\\x0c\\xa4[\\xb7n\\x96ffi\\x07\\x0e\\x10BJ\\xc2\\xc2\\x08@\\xde{\\xcf@\\x9b\\xe5\\xe5\\xe5)))+W\\xae|\\xed\\xb5\\xd7\\xa8\\xa3X\\xc4\\xc6\\xc6\\x86\\x965tss\\xa3\\x13/q_#y<-\\xc2*..\\xb6\\xb2\\xb2\\xd2Y\\xa2\\xaev\\xc8\\xce\\xce\\xde\\xb1cGhhh\\xf7\\xee\\xdd\\xc5\\xfc*\\xea\\xfb\\xf1\\xf0\\xf0\\xa0%\\x9c\\xcc\\xcc\\xccv\\xef\\xde\\xcdn\\x0c7>\\xfbLckKh\\xf5\\x8a#G\\x1e\\xbfv\\x1a\\x15q\\x9bH\\x1a\\xabR\\x91\\xaa\\xfb\\xb5\\xea\\xcb\\xd3\",B\\xc8\\xb0a\\xc3\\xa0\\xabD]\\xed#\\xee8\\xec\\xeb\\xebK\\xe7\\xb9\\xb6\\xb6\\xb6\\xce\\xce\\xceZ\"F\\x8cCr2\\x01\\x08\\xdd\\xc6R\\xa5\"M\\x9a\\x10\\x80h\\xf5N\\x19\\xc2\\xcd\\x9b7\\xb7l\\xd92q\\xe2\\xc4\\xd7_\\x7f}\\xd7\\xae]\\x86\\xbfE=E\\xc2\\x92R\\xa2\\xaen)--=z\\xf4\\xe8\\xb6m\\xdb\\xb4g>\\x19\\x07\\xb5\\x9a4mJ\\x00B\\xb7\\x99\\r\\x0c$\\x00\\xa9\\xadw)\\xc3y\\x8a\\x84%\\xa5D\\xdd\\xbf\\x8b\\x8a\\xa9E[\\xb7\\x12\\x80\\xf4\\xef_\\xd7c\\x92\\x8a\\xfc\\xdd\\xbf\\x8c\\x8e\\x8b\\x8b\\x8b\\xa7\\xa7gQQ\\x11\\xdd~\\x9d\\x03\\x7f\\x7f\\x00\\xa0{\\x8d\\xf8\\xf9\\xc1\\xdc\\x1cIIx\\xf0\\xa0n\\x07%\\x91\\xa7HX\\xe0\\xbb2U\\xe2\\x95W\\xd0\\xa0\\x01\\x8e\\x1f\\xc7\\xdd\\xbb\\xb0\\xb5\\x85\\x97\\x17T*$$\\xd4\\xf5\\xb0$\\xf1\\xd4\\tK\\x10\\x84\\xdb\\xb7o\\xd7\\xf5@\\x9e\\x0e\\xac\\xac\\xf0\\xf2\\xcbP\\xab\\xf1\\xcb/\\x00\\xe0\\xef\\x0f\\x85\\x02\\x97.\\xd5\\xf5\\xb0$!\\x10B\\xeaz\\x0c\\xff\\x83\\x10\\x92\\x9d\\x9d])E\\xf1_\\xcd\\xda\\xb5x\\xe7\\x1d\\x8c\\x1f\\x8f\\xe8h\\xe4\\xe5A\\xa5\\xc2?\\xf52\\x9fr\\x9e.aq*\\x93\\x9d\\x8ds\\xe7\\xd0\\xbd;\\x16/\\xc6\\x9d;x\\xf4\\x08\\x81\\x81\\x185\\xaa\\xae\\x87\\xa5\\x1b.\\xacg\\x81\\xc5\\x8b\\xe1\\xea\\x8a)SPZ\\x8a!C\\xb0n\\x1d\\xda\\xb6\\xad\\xeb1\\xe9\\xe0\\xe9\\x9acq\\xaa\\xe7\\xd7_1~<\\x00XX`\\xf4h\\x1c<X\\xd7\\x03\\xd2\\r\\x17\\xd6\\xb3\\x80F\\x03\\xb1\\x90\\x9aB\\x01\\xb5\\xbaNG#\\t.\\xacg\\x81>}\\x10\\x1f\\x0f\\x00\\x84`\\xdf>\\xf4\\xed[\\xd7\\x03\\xd2\\r\\x9fc=\\x0b<x\\x80i\\xd3`j\\x8a\\xbc<\\x0c\\x1a\\x84\\x90\\x90\\xba\\x1e\\x90n\\xb8\\xb0\\x9e\\x1d\\xd4j(\\x14u=\\x08\\xa9paq\\x98\\xc0\\xe7X\\x1c&paq\\x98\\xc0\\x85\\xc5a\\x02\\x17\\x16\\x87\\t\\\\X\\x1c&paq\\x98\\xc0\\x85\\xc5a\\x02\\x17\\x16\\x87\\t\\\\X\\x1c&paq\\x98\\xc0\\x85\\xc5a\\x02\\x17\\x16\\x87\\t\\\\X\\x1c&paq\\x98\\xc0\\x85\\xc5a\\x02\\x17\\x16\\x87\\t\\\\X\\x1c&paq\\x98\\xc0\\x85\\xc5a\\x02\\x17\\x16\\x87\\t\\\\X\\x1c&paq\\x98\\xc0\\x85\\xc5a\\x02\\x17\\x16\\x87\\t\\\\X\\x1c&paq\\x98\\xc0\\x85\\xc5a\\x02\\x17\\x16\\x87\\t\\\\X\\x1c&paq\\x98\\xc0\\x85\\xc5a\\x02\\x17\\x16\\x87\\t\\\\X\\x1c&paq\\x98\\xc0\\x85\\xc5a\\x02\\x17\\x16\\x87\\t\\\\X\\x1c&paq\\x98\\xc0\\x85\\xc5a\\x02\\x17\\x16\\x87\\t\\\\X\\x1c&paq\\x98\\xc0\\x85\\xc5a\\x02\\x17\\x16\\x87\\t\\\\X\\x1c&paq\\x98\\xc0\\x85\\xc5a\\x02\\x17\\x16\\x87\\t\\\\X\\x1c&paq\\x98\\xc0\\x85\\xc5a\\x02\\x17\\x16\\x87\\t\\\\X\\x1c&paq\\x98\\xc0\\x85\\xc5a\\x02\\x17\\x16\\x87\\t\\\\X\\x1c&paq\\x98\\xc0\\x85\\xc5a\\x02\\x17\\x16\\x87\\t\\\\X\\x1c&paq\\x98\\xc0\\x85\\xc5a\\x02\\x17V\\xf5\\xa4\\xa6\\xa6\\xae_\\xbf\\xbe\\xaeG\\xf1\\x0c\\xc3\\x85U=?\\xff\\xfc\\xf3\\xb4i\\xd3\\xeaz\\x14\\xcf0\\\\X\\x8fy\\xfb\\xed\\xb7W\\xaf^]\\xd7\\xa3\\xa8?pa=&==\\xfd\\xc1\\x83\\x07u=\\x8a\\xfa\\x83i]\\x0f\\xc0\\x08\\xdc\\xbcy\\xf3\\x87\\x1f~\\x985k\\xd6\\xce\\x9d;\\x0f\\x1d:daa1v\\xec\\xd8\\x17_|\\xf1\\xfc\\xf9\\xf3\\xd1\\xd1\\xd1\\x05\\x05\\x05J\\xa5r\\xc2\\x84\\t\\n\\x85\\x826\\x8e\\x8c\\x8c\\xbcq\\xe3\\x86\\x8d\\x8dM@@\\x80R\\xa9LII\\xf9\\xed\\xb7\\xdf._\\xbelmm\\xbd|\\xf9r\\x00\\xf3\\xe6\\xcd\\xa3\\x96\\x8b\\x8b\\x8b\\xa3\\xa2\\xa2N\\x9d:\\xe5\\xe8\\xe88e\\xca\\x94\\x16-Z\\x008q\\xe2D||\\xfc\\xad[\\xb7\\x1c\\x1c\\x1c\\x06\\x0f\\x1e\\xec\\xe5\\xe5\\x05`\\xeb\\xd6\\xad\\xce\\xce\\xce/\\xbc\\xf0\\xc2w\\xdf}w\\xe3\\xc6\\x8d\\xd6\\xad[O\\x9f>\\xdd\\xda\\xda\\x1a\\xc0\\xc3\\x87\\x0f\\xa3\\xa2\\xa2\\xce\\x9e=knn>d\\xc8\\x90\\xc1\\x83\\x07\\xd7\\xd97U\\x8b\\xd4\\x87;\\xd6\\xb5k\\xd7\\xde\\x7f\\xff}\\x1f\\x1f\\x9f\\xe5\\xcb\\x97\\x0b\\x82p\\xe8\\xd0!oo\\xef\\x85\\x0b\\x17\\x0e\\x180 ;;\\xfb\\xde\\xbd{S\\xa6Ly\\xf7\\xddw\\x01\\xa4\\xa4\\xa4t\\xec\\xd8q\\xf3\\xe6\\xcd\\x82 $%%\\xf5\\xee\\xdd\\xfb\\xf7\\xdf\\x7f\\xcf\\xce\\xceNMM\\xbdw\\xef\\xde\\xad[\\xb7N\\x9e<y\\xf2\\xe4IB\\x08\\xb5\\xdc\\xabW\\xaf\\xdd\\xbbw+\\x14\\x8a\\xef\\xbf\\xff\\xbe{\\xf7\\xee\\xf7\\xef\\xdf\\xbfp\\xe1\\xc2\\x80\\x01\\x03\\xd2\\xd2\\xd2LMMSRR\\xbc\\xbd\\xbd7n\\xdc\\x08`\\xe3\\xc6\\x8d\\xb3g\\xcfV*\\x95g\\xce\\x9cQ\\xab\\xd5K\\x97.\\x1d<x0!\\xe4\\xce\\x9d;\\x9e\\x9e\\x9e\\x1f}\\xf4\\x91F\\xa3\\xc9\\xc8\\xc8\\x182d\\xc8\\xbf\\xe5\\x81K\\x9e}\\x92\\x92\\x92\\x00\\xcc\\x9c9S\\xa3\\xd1\\x10B\\n\\x0b\\x0b\\xad\\xad\\xad\\x9f\\x7f\\xfe\\xf9\\xdb\\xb7o\\xd3\\x06S\\xa6L\\xb1\\xb2\\xb2\\xd2h4\\x9e\\x9e\\x9e\\xee\\xee\\xee\\xc5\\xc5\\xc5\\x84\\x10\\x95J\\xe5\\xe1\\xe1\\xd1\\xbf\\x7f\\x7f\\xfa3\\x80%K\\x96\\x886\\x17/^\\x0c`\\xfb\\xf6\\xed\\xf4\\xd7\\xf4\\xf4t\\x00\\x91\\x91\\x91\\x84\\x10z:\\xc5\\xd7\\xd7\\xb7K\\x97.\\x84\\x90\\x81\\x03\\x076n\\xdc\\xf8\\xdc\\xb9s\\xf4\\xf8\\xd7_\\x7f\\r\\xe0\\xd2\\xa5K\\x93\\'O\\xb6\\xb1\\xb1\\xc9\\xcc\\xcc\\xa4\\xc7\\x03\\x02\\x02\\x9c\\x9c\\x9cJKK\\x19\\x7f%uO}x\\x14R\\x86\\x0e\\x1d*\\x08\\x02\\x00+++WW\\xd7\\x0e\\x1d:4m\\xda\\x94~\\xe4\\xee\\xee^TTt\\xfb\\xf6\\xed\\xf4\\xf4\\xf4\\x91#G\\xee\\xd9\\xb3\\x87\\x1ewuu=|\\xf80\\xf9\\xe7\\xfeT\\tA\\x10F\\x8d\\x1a%Z\\x00\\x90\\x95\\x95\\x05\\xa0a\\xc3\\x86EEE\\x99\\x99\\x99\\xd9\\xd9\\xd9\\xb6\\xb6\\xb6)))b\\x9b\\x0e\\x1d:Tj\\x9f\\x94\\x94\\xd4\\xae]\\xbb\\xe4\\xe4\\xe4\\xe4\\xe4d\\x00vvv999\\x7f\\xff\\xfdw\\xfb\\xf6\\xed\\xd9|\\rO\\x0b\\xf5GX\\x15\\xa1\\xd3)\\x11\\x13\\x13\\x13\\x007n\\xdc \\x84\\xa4\\xa5\\xa5]\\xbbvM\\xfc\\xc8\\xdd\\xdd\\xbd\\xb0\\xb0\\xd0\\xd2\\xd2R\\xbbAjA\\xa3\\xd1\\x94\\x96\\x96\\xbe\\xf3\\xce;\\xd1\\xd1\\xd1fff\\x8e\\x8e\\x8e\\xf7\\xef\\xdf\\xa7w\\xbb\\x9a\\xda_\\xbf~\\xbdQ\\xa3Ft\\xeaFQ*\\x95\\x85\\x85\\x85\\xf2\\xff\\xb6g\\x84\\xfa)\\xacjqtt\\x04\\x10\\x12\\x12\\x12\\x1a\\x1aZ\\xe9#\\xb5Z-\\xd1\\xc8\\xa2E\\x8b~\\xfa\\xe9\\xa7={\\xf6\\xf8\\xfa\\xfa\\x02\\x983g\\xce7\\xdf|\\xa3\\xa5\\xbd\\xb3\\xb3s\\xbf~\\xfd\\xa2\\xa2\\xa2d\\r\\xf9\\x19\\xa6>L\\xde%bgg\\xd7\\xb2e\\xcb\\xd8\\xd8\\xd8\\xaa\\x1f\\x99\\x98\\x984h\\xd0\\xa0\\xb8\\xb8X\\xa7\\x91\\xe4\\xe4\\xe4\\x1e=zPU\\x01\\xc8\\xcd\\xcd\\xd5\\xde^\\xa9T&$$\\xfc\\x1bnQ\\x95\\xf8\\x17\\xdd\\xb1\\x00\\x84\\x87\\x87\\x07\\x04\\x04\\xf8\\xfb\\xfb\\x8f\\x1a5\\xaa\\xac\\xac\\xec\\xc8\\x91#\\xed\\xdb\\xb7_\\xb0`\\x81 \\x08}\\xfb\\xf6\\x8d\\x8c\\x8ctqq\\xc9\\xcf\\xcf_\\xb4hQM\\x16<==#\"\"\"\"\"\\xec\\xed\\xedw\\xee\\xdc\\x19\\x17\\x17\\xa7\\xbd\\xc7\\xb0\\xb0\\xb0>}\\xfa\\xbc\\xf4\\xd2KS\\xa7N577OKK\\xcb\\xcf\\xcf\\xdf\\xbcy\\xb3\\xb1\\xff\\xb2\\xa7\\x8e\\xfa ,;;;___\\x07\\x07\\x07\\xf1H\\xef\\xde\\xbd]]]\\xc5_\\xdd\\xdc\\xdc|}}\\xcd\\xcc\\xcc\\xc6\\x8e\\x1d\\xdb\\xb8q\\xe3\\xaf\\xbe\\xfaj\\xc5\\x8a\\x15\\x0e\\x0e\\x0eJ\\xa5r\\xf8\\xf0\\xe1\\xb4Mdd\\xe4\\x82\\x05\\x0b\\xa2\\xa3\\xa3\\xdb\\xb4iS\\\\\\\\\\xdc\\xaaU+\\xf1\\xb6\\x04@\\x10\\x04__\\xdf\\x96-[\\x86\\x86\\x86\\x96\\x94\\x94,_\\xbe\\xdc\\xcc\\xcc,   >>\\x9e\\xce\\x9f\\xbau\\xeb\\xf6\\xe8\\xd1#\\xb1}\\xe3\\xc6\\x8d}}}\\xed\\xed\\xed;w\\xee|\\xfc\\xf8\\xf1\\xf0\\xf0\\xf0\\xd5\\xabW[ZZ\\xba\\xbb\\xbb\\x07\\x05\\x051\\xffF\\x9e\\x02\\x84\\x9a\\xde\\x898\\x1cC\\xf8\\x17\\xcd\\xb18\\xb5\\t\\x17\\x16\\x87\\t\\\\X\\x1c&paq\\x98\\xc0\\x85\\xc5a\\xc2\\xff\\x03\\x863\\x8aM},\\x1f\\x10\\x00\\x00\\x01\\xf5zTXtrdkitPKL rdkit 2020.09.1\\x00\\x00x\\x9c{\\xbfo\\xed=\\x06 \\xe0\\x01bF\\x06\\x08\\x90\\x02b9 n`dcH\\x00\\x893\\xb39h\\x00if\\x166\\x87\\x0c\\x10\\xcd\\xcc\\x88\\x8d\\x01Q\\xc2\\xce\\x00\\xa6\\x99!Z\\x99\\x98`4B\\x1c\\xa2\\x8e\\x03B\\x03\\xe5\\x15\\x804\\x0b\\xaarfF\\xd2\\xf8xh\\x98\\xcb\\xa1>\\xe1\\x06\\xfa\\x92\\x91)\\x83\\x89\\x899\\x81\\x99%\\x83\\x89\\x855\\x81\\x95M\\x81\\x8d\\x9d\\x81\\x9d\\x83\\x81\\x83\\x93\\x81\\x93K\\x81\\x8b[\\x83\\x89\\x8b\\x87\\x81\\x87\\x97\\x81\\x97\\x8f\\x81\\x8f\\x9f\\x81_\\x80A@\\x90AP\\x88AH\\x98AH\\x84A@\\x94\\x81S\\x8cAL\\x9c\\x81U\"\\x83IB\\x92A\\x821A\\x9c\\x8dA\\x84\\x87A\\x94\\x87A\\x98\\x8fA\\x84\\x8d\\x8dQ\\x82\\x95\\x05\\xe8-v\\x0eN1q66^>~\\x01Q\\x1e %,$\\xc2\\xc3\\xc6/ ($\\xcc\\xc7&\\x08d\\x8b\\n\\x88\\xc3\\xc2\\x9bA\\xaa\\xf4\\xd4\\x8b\\x03\\xa7\\xb6n\\xd8\\x0f\\xe2T_:~\\x80o\\xc5\\x94} \\xf6\\xeb\\x9e\\xab\\x07\\xce]\\x98d\\x0fb\\x7f\\x9c\\xb2\\xe5\\x80\\x97\\x1e\\xbf\\x03\\x88\\xdd\\xfe\\xa8\\xf5@\\xd7\\xdb\\x8f`q\\xfd\\x80\\x82\\x03\\xf7N=\\xb7\\x03\\xb1c^\\x0b\\x1d8bu\\xc3\\x16\\xc4\\xfe\\xf5\\xe6\\xdd~\\xb5\\xf2U`3\\xfd{/\\xec3|v\\r\\xccV\\xab\\x94\\xb7\\xbf\\xbaE\\x0c\\xcc\\x96qfux3)\\x1f\\xcc\\xfe\\xb3]\\xc1A\\xe5\\x91\\xf8\\x01\\x10[\\xc0\\xd8\\xdd\\xa1UH\\x0el\\xe6G\\xefI\\x0e\\xd7R]!\\xeeq\\xde\\xec \\xb1/\\x15lou\\xe7R\\x87\\xf79\\xa2`\\xf7\\xa8\\xac\\xcbu(]\\xa2\\rf\\xdfw\\xabr\\xf0\\xe9\\x97\\x04\\x9b\\x99\\xc8\\xb6\\xc0\\xa1w\\xf9\\x050;\\xfa\\xdf\\x01\\x87\\x1es.0\\xfb\\xfd\\xf2$\\x87F\\x8b%`\\xb6\\xc1>m\\x07\\xe5\\xbd\\xa7\\xc1f\\xce\\x9f\\xe6fw\\xde!\\x12\\xcc\\xbe\\xf4m\\xe1\\xfeb\\xfe\\x99`\\xb6\\xa0\\xc2\\xcc\\x03rF\\xca`\\xf5\\x8bR\\xbb\\x0f|8\\xc9\\x02v\\xa7\\x18\\x00\\x82\\xc4\\x80\\xdf7\\xdb\\'z\\x00\\x00\\x01\\xcczTXtMOL rdkit 2020.09.1\\x00\\x00x\\x9c\\x9dUK\\xae\\x141\\x0c\\xdc\\xf7)r\\x01\"\\x7fb;^3\\xac\\x10\\x0f\\x89\\x05w`\\xcf\\xfd\\x85\\xd3\\xc93\\xbd\\x00\\xe9\\xc9\\xadV\\xabj2\\xae\\xa9J\\xdb\\x99\\xab\\xad\\xeb\\xc7\\xeb\\xeb\\xaf\\xdf-/z]W#m\\x0c\\xad\\xfd\\xfbv\\xf7\\xf6\\x93\\x00\\xe0\\x8a\\xaf\\x7f\\xb2N6l!\\xec<A\\x96\\x06\\xf4X\\x85\\xf6\\xb9\\xfdO\\xe2y\\xdf*\\xdai\\x8c\\xb1\\x10tr\\xe0\\xaa\\x8a\\x1a\\xdf\\x0e\\xb0\\xe30\\xa8\\xa9H\\xd7\\xc1t\\xefE\\'6\\xaa\\xa9\\x8c\\x8e\\x93}{\\x99\\x0eXS\\xe1n2|\\xd7\\x0e!\\xab\\xa9D\\x0e\\x17\\xdd\\xb5\\x08\\xef\\xe8Vy\\xfb\\xb8J\\xe4P\\xd5\\xf3\\xa6\\x19g\\xcdK\\xe4\\x00\\xe3\\xad\\xa26\\xbd\\xa4\\x12\\x15J\\xe4[O\\xe6\\xb4R\\xa2x\\xbf0\\x89\\xb6\\x8a\\xb3\\xd4\\x12\\x85\\x8a \\xd2\\xdeg6~\\xf6\\xcb\\xf7\\x8f\\xabp\\x0f\\x913=(\\xf7,\\x14\\xbc\\x8c.v\\xbf\\x99H\\x84N\\xc5D1\\x01@\\xb0k\\xa7[\\xd1\\x8bt4\\x86\\xbdC\\xcc\\xa3\\xe8%&\\x00yn\\x15\\x9dX\\xec\\x17\\xee\\x8e\\xa0\\xa7_\\xdc\\xcb\\xfb\\x12\\x05\\xf3\\xf4.\\x17g\\xbai\\x07F8^\\xd8\\xcb\\x89d\\xa0l/4\\x19\\xaa\\xbd\\xab\\xf3\\xfd\\xc4\\x14\\xc7\\xda\\xf9\\xb2:\\xd6\\xf9\\xe4\\x98cjIe\\xe5P\\xe1\\xed\\x05\\xbd8\\x8dq\\xee\\xda\\x943\\xd3\\xcaV\\xfc?\\x1a\\x9dE\\xcfL\\x83\\xd5z7\\xda\\x83\\xee\\xe7\"\\x81\\xf8~.\\x12h\\xe4J \\xc9\\x95@\\x9a+\\x81,I\\xa0\\x99$\\x90\\'\\xf1\\xb6\\xbai\\x93@\\x88I\\xb0\\xads\\x89\\x92p\\xaep\\xc3t\\x10h5\\xd2!\\xd20\\x1d\\x04\\xc2t\\x10\\x08\\xd3A L\\x07\\x81\\x08\\x9e\\x04\\x1f5D\\x0fo\\x94\\x0e\\x02\\xd1x$\\xa5\\xdc\\x83@\\x94\\x0e\\xce\\xc7\\x87\\x8c\\xc7\\x86\\xd03O\\xfc\\xc8\\x83\\xc0\\xdf<\\xdfZ\\xfb\\xf2\\xf6\\xba\\xfe\\x00\\x1e5`/\\xb6\\x9cH\\'\\x00\\x00\\x019zTXtSMILES rdkit 2020.09.1\\x00\\x00x\\x9c%\\x90K\\x8e$!\\x0cD\\xaf2\\xcbL)\\x0b\\xf9\\xffQiV\\xec{\\x0eQ\\xd7\\xe8\\xc3O\\x98B,\\xe0\\x11&\\xc2\\xde\\x1f\\xfe`]?\\xb2\\xf7\\xcf\\xb5\\xaf\\xbf\\xff\\xee\\xad\\xb6\\xb7\\xef}\\xcdv\\\\\\xefm\\xf7\\xder\\x7fx\\xff\\xf9\\xbd^\\xb9$-\\xf9y\\xf1\\xd2\"\\xf7\\xe7\\xfd\\x8a%\\x86\\xf5\\xbchI\\x93\\xda\\x97E\\xce\\x89\\x17[\\xe2\\xee+L\\xb9\\x1eY\\xa2)\\x00\\xb6\\xb8\\xb4\\xf1^M\\x14\\x00\\xba\\xd2\\xad\\xfa\\xa1e.G\\x02m{\\x08\\x08\\xc3\\xa8\\x18\\x08\\xf2\\x88\\xf8\\xba+\\xe7\\xd4AO\\xa9R\\xc3\"\\xf1\\xc1\\x9bV\\x88\\xb4\\xc9\\x04\\xf2\\xaah\\x04\\x90E%rP\\xab\\x97\\xc6 g\\x16}\\xe0\\xa39\\xd9\\xde\\xba\\x00l\"\\xb0\\x9bF\\x8d&J\\xad\\x10\\xd3\\x9b\\xd15$\\xc9\\x9a\\xfe\\xcc\\x037\\x80/N%\\x05P\\xb5\\xcc\\x01AB\\x86O\\xaa\\xd3\\x14\\x8d\\xc4\"E\\x07\\'\\x8e\\xf6\\xb7\\x88\\x88\\xf2\\x1bY\\x89\\xcf\\xbf\\rI\\x1dMw\\x99\\x0erc\\x1f\\x8d\\x94L\\x0f\\xb6<\\x19\\x16\\xd0pKN\\x9c9i\\xebq\\xb3\\x8a3z\\xe8\\xc3\\x810\\xfav\\x98\\xcc\\xac\\xb3\\x9cc\\nC\\xd3J\\x0fS\\x8fa\\x98\\xccA\\xf7\\xef\\x7f\\x8a\\xa0jz\\x84X\\xa7\\xa5\\x00\\x00\\x00\\x00IEND\\xaeB`\\x82'"
      ]
     },
     "execution_count": 86,
     "metadata": {},
     "output_type": "execute_result"
    }
   ],
   "source": [
    "fig.data"
   ]
  },
  {
   "cell_type": "code",
   "execution_count": 9,
   "metadata": {},
   "outputs": [
    {
     "data": {
      "text/plain": [
       "[0,\n",
       " 17,\n",
       " 4,\n",
       " 3,\n",
       " 5,\n",
       " 18,\n",
       " 24,\n",
       " 11,\n",
       " 9,\n",
       " 23,\n",
       " 16,\n",
       " 2,\n",
       " 25,\n",
       " 14,\n",
       " 21,\n",
       " 6,\n",
       " 20,\n",
       " 7,\n",
       " 22,\n",
       " 8,\n",
       " 15,\n",
       " 13,\n",
       " 10,\n",
       " 12,\n",
       " 19,\n",
       " 1]"
      ]
     },
     "execution_count": 9,
     "metadata": {},
     "output_type": "execute_result"
    }
   ],
   "source": [
    "list(new_order)"
   ]
  },
  {
   "cell_type": "markdown",
   "metadata": {},
   "source": [
    "# Preprocessing"
   ]
  },
  {
   "cell_type": "code",
   "execution_count": 10,
   "metadata": {},
   "outputs": [],
   "source": [
    "def fingerprint_features(smile_string, radius=2, size=2048):\n",
    "    \"\"\"\n",
    "    :param smile_string:\n",
    "    :param radius: no default value, usually set 2 for similarity search and 3 for machine learning\n",
    "    :param size: (nBits) number of bits, default is 2048. 1024 is also widely used.\n",
    "    :return:\n",
    "    \"\"\"\n",
    "    mol = MolFromSmiles(smile_string)\n",
    "    new_order = rdmolfiles.CanonicalRankAtoms(mol)\n",
    "    mol = rdmolops.RenumberAtoms(mol, new_order)\n",
    "    return list(rdMolDescriptors.GetMorganFingerprintAsBitVect(mol, radius=radius,\n",
    "                                                          nBits=size,\n",
    "                                                          useChirality=True,\n",
    "                                                          useBondTypes=True,\n",
    "                                                          useFeatures=False))\n",
    "\n",
    "def df_to_features(df, col='smiles', radius=2, size=2048, *args, **kwargs):\n",
    "    l_cols = [f'Bit_{i}' for i in range(size)]\n",
    "    l_smiles = df[col].values\n",
    "    vect_list = []\n",
    "    for smile in l_smiles:\n",
    "        fingerprint_vect = fingerprint_features(smile, radius=radius, size=size)\n",
    "        vect_list.append(fingerprint_vect)\n",
    "    df_morgan = pd.DataFrame(vect_list, columns=l_cols)\n",
    "    df_final = pd.concat([df, df_morgan.astype('int8')], axis=1)\n",
    "    return df_final"
   ]
  },
  {
   "cell_type": "code",
   "execution_count": 11,
   "metadata": {},
   "outputs": [],
   "source": [
    "mol = \"Cc1cccc(N2CCN(C(=O)C34CC5CC(CC(C5)C3)C4)CC2)c1C\""
   ]
  },
  {
   "cell_type": "code",
   "execution_count": 12,
   "metadata": {},
   "outputs": [
    {
     "name": "stdout",
     "output_type": "stream",
     "text": [
      "CPU times: user 4.94 s, sys: 81 ms, total: 5.02 s\n",
      "Wall time: 5.16 s\n"
     ]
    }
   ],
   "source": [
    "%%time\n",
    "SIZE = 1024\n",
    "df_final = df_to_features(df, radius=3, size=SIZE)"
   ]
  },
  {
   "cell_type": "markdown",
   "metadata": {},
   "source": [
    "# Training"
   ]
  },
  {
   "cell_type": "code",
   "execution_count": 13,
   "metadata": {},
   "outputs": [],
   "source": [
    "#import keras as k\n",
    "from keras.models import Sequential\n",
    "from keras.layers import Activation, BatchNormalization\n",
    "from keras.layers.core import Dense\n",
    "from keras.optimizers import Adam, SGD\n",
    "from keras.metrics import categorical_crossentropy\n",
    "from sklearn.model_selection import train_test_split\n",
    "\n",
    "def get_class_weights(y):\n",
    "    (unique, counts) = np.unique(y, return_counts=True)\n",
    "    d = {}\n",
    "    for k,v in zip(unique, counts):\n",
    "        d[k] = round(v/len(y), 2)\n",
    "    return d"
   ]
  },
  {
   "cell_type": "code",
   "execution_count": 14,
   "metadata": {},
   "outputs": [],
   "source": [
    "X = df_final.filter(regex='Bit').values\n",
    "y = df_final.P1.values\n",
    "w = get_class_weights(y)"
   ]
  },
  {
   "cell_type": "code",
   "execution_count": 15,
   "metadata": {},
   "outputs": [],
   "source": [
    "X_train, X_val, y_train, y_val = train_test_split(X, y, stratify=y, test_size=0.15)"
   ]
  },
  {
   "cell_type": "code",
   "execution_count": 27,
   "metadata": {},
   "outputs": [],
   "source": [
    "\"\"\"NEURAL NETWORK\"\"\"\n",
    "#The neural network model\n",
    "def get_model(size, verbose=False):\n",
    "    model = Sequential([\n",
    "        Dense(size, input_shape=(size,), activation=\"relu\"),\n",
    "        Dense(256, activation=\"sigmoid\"),\n",
    "        Dense(64, activation=\"sigmoid\"),\n",
    "        Dense(34, activation=\"sigmoid\"),\n",
    "        Dense(16, activation=\"sigmoid\"),\n",
    "        BatchNormalization(axis=1),\n",
    "        Dense(2, activation=\"softmax\")\n",
    "    ])\n",
    "    model.compile(optimizer=Adam(lr=0.00001), loss=\"sparse_categorical_crossentropy\", metrics=[\"accuracy\"])\n",
    "    return model"
   ]
  },
  {
   "cell_type": "code",
   "execution_count": 28,
   "metadata": {},
   "outputs": [],
   "source": [
    "#Compiling the model\n",
    "from keras.wrappers.scikit_learn import KerasClassifier\n",
    "model = KerasClassifier(get_model, size=SIZE, batch_size=10, epochs=100, shuffle=True, class_weight=w,\n",
    "                                    verbose=1, validation_data=(X_val, y_val))"
   ]
  },
  {
   "cell_type": "code",
   "execution_count": 29,
   "metadata": {
    "scrolled": true
   },
   "outputs": [
    {
     "name": "stdout",
     "output_type": "stream",
     "text": [
      "Epoch 1/100\n",
      "425/425 [==============================] - 2s 5ms/step - loss: 0.4836 - accuracy: 0.6213 - val_loss: 0.7033 - val_accuracy: 0.1840\n",
      "Epoch 2/100\n",
      "425/425 [==============================] - 2s 4ms/step - loss: 0.4713 - accuracy: 0.7458 - val_loss: 0.6581 - val_accuracy: 0.7960\n",
      "Epoch 3/100\n",
      "345/425 [=======================>......] - ETA: 0s - loss: 0.4603 - accuracy: 0.7777"
     ]
    },
    {
     "ename": "KeyboardInterrupt",
     "evalue": "",
     "output_type": "error",
     "traceback": [
      "\u001b[0;31m---------------------------------------------------------------------------\u001b[0m",
      "\u001b[0;31mKeyboardInterrupt\u001b[0m                         Traceback (most recent call last)",
      "\u001b[0;32m<timed eval>\u001b[0m in \u001b[0;36m<module>\u001b[0;34m\u001b[0m\n",
      "\u001b[0;32m~/miniconda3/envs/servier/lib/python3.6/site-packages/tensorflow/python/keras/wrappers/scikit_learn.py\u001b[0m in \u001b[0;36mfit\u001b[0;34m(self, x, y, **kwargs)\u001b[0m\n\u001b[1;32m    221\u001b[0m       \u001b[0;32mraise\u001b[0m \u001b[0mValueError\u001b[0m\u001b[0;34m(\u001b[0m\u001b[0;34m'Invalid shape for y: '\u001b[0m \u001b[0;34m+\u001b[0m \u001b[0mstr\u001b[0m\u001b[0;34m(\u001b[0m\u001b[0my\u001b[0m\u001b[0;34m.\u001b[0m\u001b[0mshape\u001b[0m\u001b[0;34m)\u001b[0m\u001b[0;34m)\u001b[0m\u001b[0;34m\u001b[0m\u001b[0;34m\u001b[0m\u001b[0m\n\u001b[1;32m    222\u001b[0m     \u001b[0mself\u001b[0m\u001b[0;34m.\u001b[0m\u001b[0mn_classes_\u001b[0m \u001b[0;34m=\u001b[0m \u001b[0mlen\u001b[0m\u001b[0;34m(\u001b[0m\u001b[0mself\u001b[0m\u001b[0;34m.\u001b[0m\u001b[0mclasses_\u001b[0m\u001b[0;34m)\u001b[0m\u001b[0;34m\u001b[0m\u001b[0;34m\u001b[0m\u001b[0m\n\u001b[0;32m--> 223\u001b[0;31m     \u001b[0;32mreturn\u001b[0m \u001b[0msuper\u001b[0m\u001b[0;34m(\u001b[0m\u001b[0mKerasClassifier\u001b[0m\u001b[0;34m,\u001b[0m \u001b[0mself\u001b[0m\u001b[0;34m)\u001b[0m\u001b[0;34m.\u001b[0m\u001b[0mfit\u001b[0m\u001b[0;34m(\u001b[0m\u001b[0mx\u001b[0m\u001b[0;34m,\u001b[0m \u001b[0my\u001b[0m\u001b[0;34m,\u001b[0m \u001b[0;34m**\u001b[0m\u001b[0mkwargs\u001b[0m\u001b[0;34m)\u001b[0m\u001b[0;34m\u001b[0m\u001b[0;34m\u001b[0m\u001b[0m\n\u001b[0m\u001b[1;32m    224\u001b[0m \u001b[0;34m\u001b[0m\u001b[0m\n\u001b[1;32m    225\u001b[0m   \u001b[0;32mdef\u001b[0m \u001b[0mpredict\u001b[0m\u001b[0;34m(\u001b[0m\u001b[0mself\u001b[0m\u001b[0;34m,\u001b[0m \u001b[0mx\u001b[0m\u001b[0;34m,\u001b[0m \u001b[0;34m**\u001b[0m\u001b[0mkwargs\u001b[0m\u001b[0;34m)\u001b[0m\u001b[0;34m:\u001b[0m\u001b[0;34m\u001b[0m\u001b[0;34m\u001b[0m\u001b[0m\n",
      "\u001b[0;32m~/miniconda3/envs/servier/lib/python3.6/site-packages/tensorflow/python/keras/wrappers/scikit_learn.py\u001b[0m in \u001b[0;36mfit\u001b[0;34m(self, x, y, **kwargs)\u001b[0m\n\u001b[1;32m    164\u001b[0m     \u001b[0mfit_args\u001b[0m\u001b[0;34m.\u001b[0m\u001b[0mupdate\u001b[0m\u001b[0;34m(\u001b[0m\u001b[0mkwargs\u001b[0m\u001b[0;34m)\u001b[0m\u001b[0;34m\u001b[0m\u001b[0;34m\u001b[0m\u001b[0m\n\u001b[1;32m    165\u001b[0m \u001b[0;34m\u001b[0m\u001b[0m\n\u001b[0;32m--> 166\u001b[0;31m     \u001b[0mhistory\u001b[0m \u001b[0;34m=\u001b[0m \u001b[0mself\u001b[0m\u001b[0;34m.\u001b[0m\u001b[0mmodel\u001b[0m\u001b[0;34m.\u001b[0m\u001b[0mfit\u001b[0m\u001b[0;34m(\u001b[0m\u001b[0mx\u001b[0m\u001b[0;34m,\u001b[0m \u001b[0my\u001b[0m\u001b[0;34m,\u001b[0m \u001b[0;34m**\u001b[0m\u001b[0mfit_args\u001b[0m\u001b[0;34m)\u001b[0m\u001b[0;34m\u001b[0m\u001b[0;34m\u001b[0m\u001b[0m\n\u001b[0m\u001b[1;32m    167\u001b[0m \u001b[0;34m\u001b[0m\u001b[0m\n\u001b[1;32m    168\u001b[0m     \u001b[0;32mreturn\u001b[0m \u001b[0mhistory\u001b[0m\u001b[0;34m\u001b[0m\u001b[0;34m\u001b[0m\u001b[0m\n",
      "\u001b[0;32m~/miniconda3/envs/servier/lib/python3.6/site-packages/tensorflow/python/keras/engine/training.py\u001b[0m in \u001b[0;36m_method_wrapper\u001b[0;34m(self, *args, **kwargs)\u001b[0m\n\u001b[1;32m    106\u001b[0m   \u001b[0;32mdef\u001b[0m \u001b[0m_method_wrapper\u001b[0m\u001b[0;34m(\u001b[0m\u001b[0mself\u001b[0m\u001b[0;34m,\u001b[0m \u001b[0;34m*\u001b[0m\u001b[0margs\u001b[0m\u001b[0;34m,\u001b[0m \u001b[0;34m**\u001b[0m\u001b[0mkwargs\u001b[0m\u001b[0;34m)\u001b[0m\u001b[0;34m:\u001b[0m\u001b[0;34m\u001b[0m\u001b[0;34m\u001b[0m\u001b[0m\n\u001b[1;32m    107\u001b[0m     \u001b[0;32mif\u001b[0m \u001b[0;32mnot\u001b[0m \u001b[0mself\u001b[0m\u001b[0;34m.\u001b[0m\u001b[0m_in_multi_worker_mode\u001b[0m\u001b[0;34m(\u001b[0m\u001b[0;34m)\u001b[0m\u001b[0;34m:\u001b[0m  \u001b[0;31m# pylint: disable=protected-access\u001b[0m\u001b[0;34m\u001b[0m\u001b[0;34m\u001b[0m\u001b[0m\n\u001b[0;32m--> 108\u001b[0;31m       \u001b[0;32mreturn\u001b[0m \u001b[0mmethod\u001b[0m\u001b[0;34m(\u001b[0m\u001b[0mself\u001b[0m\u001b[0;34m,\u001b[0m \u001b[0;34m*\u001b[0m\u001b[0margs\u001b[0m\u001b[0;34m,\u001b[0m \u001b[0;34m**\u001b[0m\u001b[0mkwargs\u001b[0m\u001b[0;34m)\u001b[0m\u001b[0;34m\u001b[0m\u001b[0;34m\u001b[0m\u001b[0m\n\u001b[0m\u001b[1;32m    109\u001b[0m \u001b[0;34m\u001b[0m\u001b[0m\n\u001b[1;32m    110\u001b[0m     \u001b[0;31m# Running inside `run_distribute_coordinator` already.\u001b[0m\u001b[0;34m\u001b[0m\u001b[0;34m\u001b[0m\u001b[0;34m\u001b[0m\u001b[0m\n",
      "\u001b[0;32m~/miniconda3/envs/servier/lib/python3.6/site-packages/tensorflow/python/keras/engine/training.py\u001b[0m in \u001b[0;36mfit\u001b[0;34m(self, x, y, batch_size, epochs, verbose, callbacks, validation_split, validation_data, shuffle, class_weight, sample_weight, initial_epoch, steps_per_epoch, validation_steps, validation_batch_size, validation_freq, max_queue_size, workers, use_multiprocessing)\u001b[0m\n\u001b[1;32m   1096\u001b[0m                 batch_size=batch_size):\n\u001b[1;32m   1097\u001b[0m               \u001b[0mcallbacks\u001b[0m\u001b[0;34m.\u001b[0m\u001b[0mon_train_batch_begin\u001b[0m\u001b[0;34m(\u001b[0m\u001b[0mstep\u001b[0m\u001b[0;34m)\u001b[0m\u001b[0;34m\u001b[0m\u001b[0;34m\u001b[0m\u001b[0m\n\u001b[0;32m-> 1098\u001b[0;31m               \u001b[0mtmp_logs\u001b[0m \u001b[0;34m=\u001b[0m \u001b[0mtrain_function\u001b[0m\u001b[0;34m(\u001b[0m\u001b[0miterator\u001b[0m\u001b[0;34m)\u001b[0m\u001b[0;34m\u001b[0m\u001b[0;34m\u001b[0m\u001b[0m\n\u001b[0m\u001b[1;32m   1099\u001b[0m               \u001b[0;32mif\u001b[0m \u001b[0mdata_handler\u001b[0m\u001b[0;34m.\u001b[0m\u001b[0mshould_sync\u001b[0m\u001b[0;34m:\u001b[0m\u001b[0;34m\u001b[0m\u001b[0;34m\u001b[0m\u001b[0m\n\u001b[1;32m   1100\u001b[0m                 \u001b[0mcontext\u001b[0m\u001b[0;34m.\u001b[0m\u001b[0masync_wait\u001b[0m\u001b[0;34m(\u001b[0m\u001b[0;34m)\u001b[0m\u001b[0;34m\u001b[0m\u001b[0;34m\u001b[0m\u001b[0m\n",
      "\u001b[0;32m~/miniconda3/envs/servier/lib/python3.6/site-packages/tensorflow/python/eager/def_function.py\u001b[0m in \u001b[0;36m__call__\u001b[0;34m(self, *args, **kwds)\u001b[0m\n\u001b[1;32m    778\u001b[0m       \u001b[0;32melse\u001b[0m\u001b[0;34m:\u001b[0m\u001b[0;34m\u001b[0m\u001b[0;34m\u001b[0m\u001b[0m\n\u001b[1;32m    779\u001b[0m         \u001b[0mcompiler\u001b[0m \u001b[0;34m=\u001b[0m \u001b[0;34m\"nonXla\"\u001b[0m\u001b[0;34m\u001b[0m\u001b[0;34m\u001b[0m\u001b[0m\n\u001b[0;32m--> 780\u001b[0;31m         \u001b[0mresult\u001b[0m \u001b[0;34m=\u001b[0m \u001b[0mself\u001b[0m\u001b[0;34m.\u001b[0m\u001b[0m_call\u001b[0m\u001b[0;34m(\u001b[0m\u001b[0;34m*\u001b[0m\u001b[0margs\u001b[0m\u001b[0;34m,\u001b[0m \u001b[0;34m**\u001b[0m\u001b[0mkwds\u001b[0m\u001b[0;34m)\u001b[0m\u001b[0;34m\u001b[0m\u001b[0;34m\u001b[0m\u001b[0m\n\u001b[0m\u001b[1;32m    781\u001b[0m \u001b[0;34m\u001b[0m\u001b[0m\n\u001b[1;32m    782\u001b[0m       \u001b[0mnew_tracing_count\u001b[0m \u001b[0;34m=\u001b[0m \u001b[0mself\u001b[0m\u001b[0;34m.\u001b[0m\u001b[0m_get_tracing_count\u001b[0m\u001b[0;34m(\u001b[0m\u001b[0;34m)\u001b[0m\u001b[0;34m\u001b[0m\u001b[0;34m\u001b[0m\u001b[0m\n",
      "\u001b[0;32m~/miniconda3/envs/servier/lib/python3.6/site-packages/tensorflow/python/eager/def_function.py\u001b[0m in \u001b[0;36m_call\u001b[0;34m(self, *args, **kwds)\u001b[0m\n\u001b[1;32m    805\u001b[0m       \u001b[0;31m# In this case we have created variables on the first call, so we run the\u001b[0m\u001b[0;34m\u001b[0m\u001b[0;34m\u001b[0m\u001b[0;34m\u001b[0m\u001b[0m\n\u001b[1;32m    806\u001b[0m       \u001b[0;31m# defunned version which is guaranteed to never create variables.\u001b[0m\u001b[0;34m\u001b[0m\u001b[0;34m\u001b[0m\u001b[0;34m\u001b[0m\u001b[0m\n\u001b[0;32m--> 807\u001b[0;31m       \u001b[0;32mreturn\u001b[0m \u001b[0mself\u001b[0m\u001b[0;34m.\u001b[0m\u001b[0m_stateless_fn\u001b[0m\u001b[0;34m(\u001b[0m\u001b[0;34m*\u001b[0m\u001b[0margs\u001b[0m\u001b[0;34m,\u001b[0m \u001b[0;34m**\u001b[0m\u001b[0mkwds\u001b[0m\u001b[0;34m)\u001b[0m  \u001b[0;31m# pylint: disable=not-callable\u001b[0m\u001b[0;34m\u001b[0m\u001b[0;34m\u001b[0m\u001b[0m\n\u001b[0m\u001b[1;32m    808\u001b[0m     \u001b[0;32melif\u001b[0m \u001b[0mself\u001b[0m\u001b[0;34m.\u001b[0m\u001b[0m_stateful_fn\u001b[0m \u001b[0;32mis\u001b[0m \u001b[0;32mnot\u001b[0m \u001b[0;32mNone\u001b[0m\u001b[0;34m:\u001b[0m\u001b[0;34m\u001b[0m\u001b[0;34m\u001b[0m\u001b[0m\n\u001b[1;32m    809\u001b[0m       \u001b[0;31m# Release the lock early so that multiple threads can perform the call\u001b[0m\u001b[0;34m\u001b[0m\u001b[0;34m\u001b[0m\u001b[0;34m\u001b[0m\u001b[0m\n",
      "\u001b[0;32m~/miniconda3/envs/servier/lib/python3.6/site-packages/tensorflow/python/eager/function.py\u001b[0m in \u001b[0;36m__call__\u001b[0;34m(self, *args, **kwargs)\u001b[0m\n\u001b[1;32m   2827\u001b[0m     \u001b[0;32mwith\u001b[0m \u001b[0mself\u001b[0m\u001b[0;34m.\u001b[0m\u001b[0m_lock\u001b[0m\u001b[0;34m:\u001b[0m\u001b[0;34m\u001b[0m\u001b[0;34m\u001b[0m\u001b[0m\n\u001b[1;32m   2828\u001b[0m       \u001b[0mgraph_function\u001b[0m\u001b[0;34m,\u001b[0m \u001b[0margs\u001b[0m\u001b[0;34m,\u001b[0m \u001b[0mkwargs\u001b[0m \u001b[0;34m=\u001b[0m \u001b[0mself\u001b[0m\u001b[0;34m.\u001b[0m\u001b[0m_maybe_define_function\u001b[0m\u001b[0;34m(\u001b[0m\u001b[0margs\u001b[0m\u001b[0;34m,\u001b[0m \u001b[0mkwargs\u001b[0m\u001b[0;34m)\u001b[0m\u001b[0;34m\u001b[0m\u001b[0;34m\u001b[0m\u001b[0m\n\u001b[0;32m-> 2829\u001b[0;31m     \u001b[0;32mreturn\u001b[0m \u001b[0mgraph_function\u001b[0m\u001b[0;34m.\u001b[0m\u001b[0m_filtered_call\u001b[0m\u001b[0;34m(\u001b[0m\u001b[0margs\u001b[0m\u001b[0;34m,\u001b[0m \u001b[0mkwargs\u001b[0m\u001b[0;34m)\u001b[0m  \u001b[0;31m# pylint: disable=protected-access\u001b[0m\u001b[0;34m\u001b[0m\u001b[0;34m\u001b[0m\u001b[0m\n\u001b[0m\u001b[1;32m   2830\u001b[0m \u001b[0;34m\u001b[0m\u001b[0m\n\u001b[1;32m   2831\u001b[0m   \u001b[0;34m@\u001b[0m\u001b[0mproperty\u001b[0m\u001b[0;34m\u001b[0m\u001b[0;34m\u001b[0m\u001b[0m\n",
      "\u001b[0;32m~/miniconda3/envs/servier/lib/python3.6/site-packages/tensorflow/python/eager/function.py\u001b[0m in \u001b[0;36m_filtered_call\u001b[0;34m(self, args, kwargs, cancellation_manager)\u001b[0m\n\u001b[1;32m   1846\u001b[0m                            resource_variable_ops.BaseResourceVariable))],\n\u001b[1;32m   1847\u001b[0m         \u001b[0mcaptured_inputs\u001b[0m\u001b[0;34m=\u001b[0m\u001b[0mself\u001b[0m\u001b[0;34m.\u001b[0m\u001b[0mcaptured_inputs\u001b[0m\u001b[0;34m,\u001b[0m\u001b[0;34m\u001b[0m\u001b[0;34m\u001b[0m\u001b[0m\n\u001b[0;32m-> 1848\u001b[0;31m         cancellation_manager=cancellation_manager)\n\u001b[0m\u001b[1;32m   1849\u001b[0m \u001b[0;34m\u001b[0m\u001b[0m\n\u001b[1;32m   1850\u001b[0m   \u001b[0;32mdef\u001b[0m \u001b[0m_call_flat\u001b[0m\u001b[0;34m(\u001b[0m\u001b[0mself\u001b[0m\u001b[0;34m,\u001b[0m \u001b[0margs\u001b[0m\u001b[0;34m,\u001b[0m \u001b[0mcaptured_inputs\u001b[0m\u001b[0;34m,\u001b[0m \u001b[0mcancellation_manager\u001b[0m\u001b[0;34m=\u001b[0m\u001b[0;32mNone\u001b[0m\u001b[0;34m)\u001b[0m\u001b[0;34m:\u001b[0m\u001b[0;34m\u001b[0m\u001b[0;34m\u001b[0m\u001b[0m\n",
      "\u001b[0;32m~/miniconda3/envs/servier/lib/python3.6/site-packages/tensorflow/python/eager/function.py\u001b[0m in \u001b[0;36m_call_flat\u001b[0;34m(self, args, captured_inputs, cancellation_manager)\u001b[0m\n\u001b[1;32m   1922\u001b[0m       \u001b[0;31m# No tape is watching; skip to running the function.\u001b[0m\u001b[0;34m\u001b[0m\u001b[0;34m\u001b[0m\u001b[0;34m\u001b[0m\u001b[0m\n\u001b[1;32m   1923\u001b[0m       return self._build_call_outputs(self._inference_function.call(\n\u001b[0;32m-> 1924\u001b[0;31m           ctx, args, cancellation_manager=cancellation_manager))\n\u001b[0m\u001b[1;32m   1925\u001b[0m     forward_backward = self._select_forward_and_backward_functions(\n\u001b[1;32m   1926\u001b[0m         \u001b[0margs\u001b[0m\u001b[0;34m,\u001b[0m\u001b[0;34m\u001b[0m\u001b[0;34m\u001b[0m\u001b[0m\n",
      "\u001b[0;32m~/miniconda3/envs/servier/lib/python3.6/site-packages/tensorflow/python/eager/function.py\u001b[0m in \u001b[0;36mcall\u001b[0;34m(self, ctx, args, cancellation_manager)\u001b[0m\n\u001b[1;32m    548\u001b[0m               \u001b[0minputs\u001b[0m\u001b[0;34m=\u001b[0m\u001b[0margs\u001b[0m\u001b[0;34m,\u001b[0m\u001b[0;34m\u001b[0m\u001b[0;34m\u001b[0m\u001b[0m\n\u001b[1;32m    549\u001b[0m               \u001b[0mattrs\u001b[0m\u001b[0;34m=\u001b[0m\u001b[0mattrs\u001b[0m\u001b[0;34m,\u001b[0m\u001b[0;34m\u001b[0m\u001b[0;34m\u001b[0m\u001b[0m\n\u001b[0;32m--> 550\u001b[0;31m               ctx=ctx)\n\u001b[0m\u001b[1;32m    551\u001b[0m         \u001b[0;32melse\u001b[0m\u001b[0;34m:\u001b[0m\u001b[0;34m\u001b[0m\u001b[0;34m\u001b[0m\u001b[0m\n\u001b[1;32m    552\u001b[0m           outputs = execute.execute_with_cancellation(\n",
      "\u001b[0;32m~/miniconda3/envs/servier/lib/python3.6/site-packages/tensorflow/python/eager/execute.py\u001b[0m in \u001b[0;36mquick_execute\u001b[0;34m(op_name, num_outputs, inputs, attrs, ctx, name)\u001b[0m\n\u001b[1;32m     58\u001b[0m     \u001b[0mctx\u001b[0m\u001b[0;34m.\u001b[0m\u001b[0mensure_initialized\u001b[0m\u001b[0;34m(\u001b[0m\u001b[0;34m)\u001b[0m\u001b[0;34m\u001b[0m\u001b[0;34m\u001b[0m\u001b[0m\n\u001b[1;32m     59\u001b[0m     tensors = pywrap_tfe.TFE_Py_Execute(ctx._handle, device_name, op_name,\n\u001b[0;32m---> 60\u001b[0;31m                                         inputs, attrs, num_outputs)\n\u001b[0m\u001b[1;32m     61\u001b[0m   \u001b[0;32mexcept\u001b[0m \u001b[0mcore\u001b[0m\u001b[0;34m.\u001b[0m\u001b[0m_NotOkStatusException\u001b[0m \u001b[0;32mas\u001b[0m \u001b[0me\u001b[0m\u001b[0;34m:\u001b[0m\u001b[0;34m\u001b[0m\u001b[0;34m\u001b[0m\u001b[0m\n\u001b[1;32m     62\u001b[0m     \u001b[0;32mif\u001b[0m \u001b[0mname\u001b[0m \u001b[0;32mis\u001b[0m \u001b[0;32mnot\u001b[0m \u001b[0;32mNone\u001b[0m\u001b[0;34m:\u001b[0m\u001b[0;34m\u001b[0m\u001b[0;34m\u001b[0m\u001b[0m\n",
      "\u001b[0;31mKeyboardInterrupt\u001b[0m: "
     ]
    }
   ],
   "source": [
    "%%time\n",
    "#Training the model\n",
    "model.fit(X_train, y_train)"
   ]
  },
  {
   "cell_type": "markdown",
   "metadata": {},
   "source": [
    "# Prediction"
   ]
  },
  {
   "cell_type": "code",
   "execution_count": 200,
   "metadata": {},
   "outputs": [
    {
     "name": "stdout",
     "output_type": "stream",
     "text": [
      "750/750 [==============================] - 1s 761us/step\n"
     ]
    }
   ],
   "source": [
    "#Predictions with test dataset\n",
    "y_pred = model.predict_classes(X_val, batch_size=1, verbose=1)"
   ]
  },
  {
   "cell_type": "markdown",
   "metadata": {},
   "source": [
    "# Evaluation"
   ]
  },
  {
   "cell_type": "code",
   "execution_count": 201,
   "metadata": {},
   "outputs": [],
   "source": [
    "import copy\n",
    "import matplotlib.pyplot as plt\n",
    "\n",
    "def plot_confusion_wiki(confmat):\n",
    "    fig, ax = plt.subplots(figsize=(5, 5))\n",
    "    confmat_wiki = copy.copy(confmat.T)\n",
    "    confmat_wiki[0][0] = confmat[1][1]\n",
    "    confmat_wiki[1][1] = confmat[0][0]\n",
    "    ax.matshow(confmat_wiki, cmap=plt.cm.Blues, alpha=0.3)\n",
    "    for i in range(confmat_wiki.shape[0]):\n",
    "        for j in range(confmat_wiki.shape[1]):\n",
    "            ax.text(x=j, y=i, s=confmat_wiki[i, j], va='center', ha='center')\n",
    "    ax.set_xticklabels([0, 1])\n",
    "    ax.set_yticklabels([0, 1])\n",
    "    plt.xlabel('true label')\n",
    "    plt.ylabel('predicted label')\n",
    "    plt.tight_layout()"
   ]
  },
  {
   "cell_type": "code",
   "execution_count": 202,
   "metadata": {},
   "outputs": [],
   "source": [
    "from servier.utils import perf_eval_classif\n",
    "perf_eval = perf_eval_classif(y_val, y_pred, verbose=False)"
   ]
  },
  {
   "cell_type": "code",
   "execution_count": 203,
   "metadata": {},
   "outputs": [
    {
     "name": "stderr",
     "output_type": "stream",
     "text": [
      "/Users/jeanbizot/miniconda3/envs/servier/lib/python3.6/site-packages/ipykernel_launcher.py:13: UserWarning: FixedFormatter should only be used together with FixedLocator\n",
      "  del sys.path[0]\n",
      "/Users/jeanbizot/miniconda3/envs/servier/lib/python3.6/site-packages/ipykernel_launcher.py:14: UserWarning: FixedFormatter should only be used together with FixedLocator\n",
      "  \n"
     ]
    },
    {
     "data": {
      "image/png": "[encoded data removed]",
      "text/plain": [
       "<Figure size 360x360 with 1 Axes>"
      ]
     },
     "metadata": {
      "needs_background": "light"
     },
     "output_type": "display_data"
    }
   ],
   "source": [
    "plot_confusion_wiki(perf_eval['confusion_matrix'])"
   ]
  },
  {
   "cell_type": "code",
   "execution_count": 171,
   "metadata": {},
   "outputs": [
    {
     "data": {
      "text/plain": [
       "{'f1': 0.8050632911392406,\n",
       " 'ROC': 0.5438917425857724,\n",
       " 'precision': 0.8383128295254832,\n",
       " 'recall': 0.7743506493506493,\n",
       " 'confusion_matrix': array([[ 42,  92],\n",
       "        [139, 477]])}"
      ]
     },
     "execution_count": 171,
     "metadata": {},
     "output_type": "execute_result"
    }
   ],
   "source": [
    "perf_eval"
   ]
  },
  {
   "cell_type": "markdown",
   "metadata": {},
   "source": [
    "# Test model loading"
   ]
  },
  {
   "cell_type": "code",
   "execution_count": 60,
   "metadata": {},
   "outputs": [],
   "source": [
    "from servier.data import get_X_y, get_data, LOCAL_PATH\n",
    "\n",
    "import joblib\n",
    "from keras.models import load_model\n",
    "path = LOCAL_PATH + 'final_models/'\n",
    "def model_load(path=path, dl=False):\n",
    "    if dl:\n",
    "        # Load the pipeline first:\n",
    "        pipeline = joblib.load(path + 'keras_pipeline.joblib')\n",
    "        # Then, load the Keras model:\n",
    "        pipeline.named_steps['clf'].model = load_model(path + 'keras_model.h5')\n",
    "    else:\n",
    "        pipeline = joblib.load(path + 'sklearn_pipeline.joblib')\n",
    "    return pipeline"
   ]
  },
  {
   "cell_type": "code",
   "execution_count": 56,
   "metadata": {},
   "outputs": [],
   "source": [
    "pipeline = model_load(dl=True)"
   ]
  },
  {
   "cell_type": "code",
   "execution_count": 57,
   "metadata": {},
   "outputs": [
    {
     "data": {
      "text/plain": [
       "{'preprocessing': Pipeline(steps=[('feat_encoder',\n",
       "                  Pipeline(steps=[('morganfingerprintencoder',\n",
       "                                   MorganFingerprintEncoder(size=1024))]))]),\n",
       " 'clf': <tensorflow.python.keras.wrappers.scikit_learn.KerasClassifier at 0x14b478eb8>}"
      ]
     },
     "execution_count": 57,
     "metadata": {},
     "output_type": "execute_result"
    }
   ],
   "source": [
    "pipeline.named_steps"
   ]
  },
  {
   "cell_type": "code",
   "execution_count": 65,
   "metadata": {},
   "outputs": [],
   "source": [
    "df = get_data()\n",
    "X, y = get_X_y(df.sample(10))"
   ]
  },
  {
   "cell_type": "code",
   "execution_count": 75,
   "metadata": {},
   "outputs": [
    {
     "name": "stdout",
     "output_type": "stream",
     "text": [
      "1/1 [==============================] - 0s 824us/step\n"
     ]
    }
   ],
   "source": [
    "y_pred = pipeline.predict(X)"
   ]
  },
  {
   "cell_type": "code",
   "execution_count": 76,
   "metadata": {},
   "outputs": [
    {
     "data": {
      "text/html": [
       "<div>\n",
       "<style scoped>\n",
       "    .dataframe tbody tr th:only-of-type {\n",
       "        vertical-align: middle;\n",
       "    }\n",
       "\n",
       "    .dataframe tbody tr th {\n",
       "        vertical-align: top;\n",
       "    }\n",
       "\n",
       "    .dataframe thead th {\n",
       "        text-align: right;\n",
       "    }\n",
       "</style>\n",
       "<table border=\"1\" class=\"dataframe\">\n",
       "  <thead>\n",
       "    <tr style=\"text-align: right;\">\n",
       "      <th></th>\n",
       "      <th>P1</th>\n",
       "      <th>mol_id</th>\n",
       "      <th>smiles</th>\n",
       "    </tr>\n",
       "  </thead>\n",
       "  <tbody>\n",
       "    <tr>\n",
       "      <th>0</th>\n",
       "      <td>1</td>\n",
       "      <td>CID2999678</td>\n",
       "      <td>Cc1cccc(N2CCN(C(=O)C34CC5CC(CC(C5)C3)C4)CC2)c1C</td>\n",
       "    </tr>\n",
       "    <tr>\n",
       "      <th>1</th>\n",
       "      <td>0</td>\n",
       "      <td>CID2999679</td>\n",
       "      <td>Cn1ccnc1SCC(=O)Nc1ccc(Oc2ccccc2)cc1</td>\n",
       "    </tr>\n",
       "    <tr>\n",
       "      <th>2</th>\n",
       "      <td>1</td>\n",
       "      <td>CID2999672</td>\n",
       "      <td>COc1cc2c(cc1NC(=O)CN1C(=O)NC3(CCc4ccccc43)C1=O...</td>\n",
       "    </tr>\n",
       "    <tr>\n",
       "      <th>3</th>\n",
       "      <td>0</td>\n",
       "      <td>CID5390002</td>\n",
       "      <td>O=C1/C(=C/NC2CCS(=O)(=O)C2)c2ccccc2C(=O)N1c1cc...</td>\n",
       "    </tr>\n",
       "    <tr>\n",
       "      <th>4</th>\n",
       "      <td>1</td>\n",
       "      <td>CID2999670</td>\n",
       "      <td>NC(=O)NC(Cc1ccccc1)C(=O)O</td>\n",
       "    </tr>\n",
       "  </tbody>\n",
       "</table>\n",
       "</div>"
      ],
      "text/plain": [
       "   P1      mol_id                                             smiles\n",
       "0   1  CID2999678    Cc1cccc(N2CCN(C(=O)C34CC5CC(CC(C5)C3)C4)CC2)c1C\n",
       "1   0  CID2999679                Cn1ccnc1SCC(=O)Nc1ccc(Oc2ccccc2)cc1\n",
       "2   1  CID2999672  COc1cc2c(cc1NC(=O)CN1C(=O)NC3(CCc4ccccc43)C1=O...\n",
       "3   0  CID5390002  O=C1/C(=C/NC2CCS(=O)(=O)C2)c2ccccc2C(=O)N1c1cc...\n",
       "4   1  CID2999670                          NC(=O)NC(Cc1ccccc1)C(=O)O"
      ]
     },
     "execution_count": 76,
     "metadata": {},
     "output_type": "execute_result"
    }
   ],
   "source": [
    "df.head()"
   ]
  },
  {
   "cell_type": "markdown",
   "metadata": {},
   "source": [
    "# API TEST"
   ]
  },
  {
   "cell_type": "code",
   "execution_count": 69,
   "metadata": {},
   "outputs": [],
   "source": [
    "instances = df.drop(\"P1\", axis=1).to_dict(orient=\"records\")\n",
    "#api_url = \"https://wagon-api-jean.herokuapp.com/\"\n",
    "api_url = \"http://127.0.0.1:8080/\""
   ]
  },
  {
   "cell_type": "code",
   "execution_count": 72,
   "metadata": {},
   "outputs": [
    {
     "name": "stdout",
     "output_type": "stream",
     "text": [
      "CPU times: user 3.4 ms, sys: 1.39 ms, total: 4.79 ms\n",
      "Wall time: 562 ms\n"
     ]
    }
   ],
   "source": [
    "%%time\n",
    "import requests\n",
    "r = requests.get(api_url+\"predict\", json=instances[22:30])#, headers = {'content-type': 'application/json', 'Accept-Charset': 'UTF-8'})"
   ]
  },
  {
   "cell_type": "code",
   "execution_count": 74,
   "metadata": {},
   "outputs": [
    {
     "data": {
      "text/plain": [
       "{'predictions': [1.0, 1.0, 1.0, 1.0, 1.0, 1.0, 0.0, 1.0]}"
      ]
     },
     "execution_count": 74,
     "metadata": {},
     "output_type": "execute_result"
    }
   ],
   "source": [
    "r.json()"
   ]
  },
  {
   "cell_type": "code",
   "execution_count": null,
   "metadata": {},
   "outputs": [],
   "source": []
  }
 ],
 "metadata": {
  "kernelspec": {
   "display_name": "Python 3",
   "language": "python",
   "name": "python3"
  },
  "language_info": {
   "codemirror_mode": {
    "name": "ipython",
    "version": 3
   },
   "file_extension": ".py",
   "mimetype": "text/x-python",
   "name": "python",
   "nbconvert_exporter": "python",
   "pygments_lexer": "ipython3",
   "version": "3.6.12"
  }
 },
 "nbformat": 4,
 "nbformat_minor": 2
}
